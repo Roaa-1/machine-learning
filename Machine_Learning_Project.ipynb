{
  "nbformat": 4,
  "nbformat_minor": 0,
  "metadata": {
    "kernelspec": {
      "display_name": "Python 3",
      "language": "python",
      "name": "python3"
    },
    "language_info": {
      "codemirror_mode": {
        "name": "ipython",
        "version": 3
      },
      "file_extension": ".py",
      "mimetype": "text/x-python",
      "name": "python",
      "nbconvert_exporter": "python",
      "pygments_lexer": "ipython3",
      "version": "3.7.3"
    },
    "colab": {
      "name": "Machine Learning Project.ipynb",
      "provenance": [],
      "collapsed_sections": [],
      "include_colab_link": true
    }
  },
  "cells": [
    {
      "cell_type": "markdown",
      "metadata": {
        "id": "view-in-github",
        "colab_type": "text"
      },
      "source": [
        "<a href=\"https://colab.research.google.com/github/Roaa-1/machine-learning/blob/master/Machine_Learning_Project.ipynb\" target=\"_parent\"><img src=\"https://colab.research.google.com/assets/colab-badge.svg\" alt=\"Open In Colab\"/></a>"
      ]
    },
    {
      "cell_type": "markdown",
      "metadata": {
        "id": "AaWyxXynlX9f",
        "colab_type": "text"
      },
      "source": [
        "# **Analyzing Students' Performance in Secondary Education of Portuguese       Schools**"
      ]
    },
    {
      "cell_type": "markdown",
      "metadata": {
        "id": "wRZ1o-J7wQ7R",
        "colab_type": "text"
      },
      "source": [
        "![portugal](https://d36tnp772eyphs.cloudfront.net/blogs/1/2011/05/portugal-1-1200x854.jpg)"
      ]
    },
    {
      "cell_type": "markdown",
      "metadata": {
        "id": "W2DRb10Cqu-p",
        "colab_type": "text"
      },
      "source": [
        "## **Introduction**"
      ]
    },
    {
      "cell_type": "markdown",
      "metadata": {
        "id": "_iJF-S-fs_eg",
        "colab_type": "text"
      },
      "source": [
        "### Education is the most important factor for countries to become highly advanced. Governments of all countries have a particular need for machine learning since they have many categories of data that can be mined to give them new insights.\n",
        "### In the Education field, Machine learning can help to detect weaknesses and reduce them. In this project, we select a dataset of “Students Performance in Secondary Education” of two Portuguese schools in mathematics subject.\n",
        "### The data attributes include student grades, demographic, social and school-related features and it was collected by using school reports and questionnaires.\n",
        "### We classified these students into three categories, “Excellent”, “Good”, and “Fail”, according to their final exam performance. Then we analyzed a few features that have a significant influence on students' final performance. "
      ]
    },
    {
      "cell_type": "markdown",
      "metadata": {
        "id": "sfFVPVHgtuLZ",
        "colab_type": "text"
      },
      "source": [
        "## **Problem Statement**"
      ]
    },
    {
      "cell_type": "markdown",
      "metadata": {
        "id": "vYcZIosTtkiN",
        "colab_type": "text"
      },
      "source": [
        "### In Portugal, statistics showed that there is a high failure rate of students in mathematics. We will analyze this case-study using a dataset of students' past grades. \n",
        "\n",
        "### ***The Question is:*** Can we in machine learning find a way to classify students' grades in a high accurate way as possible? And determine the most important factors that may affect the students in their final grade to enhance them?\n"
      ]
    },
    {
      "cell_type": "markdown",
      "metadata": {
        "id": "zBIhCfyruwpG",
        "colab_type": "text"
      },
      "source": [
        "## **Proposed Solution**"
      ]
    },
    {
      "cell_type": "markdown",
      "metadata": {
        "id": "3cZG0JhQu51d",
        "colab_type": "text"
      },
      "source": [
        "### We create various machine learning models to predict students' final performance (Grade), then we compare the models' performance based on accuracy score and other metrics."
      ]
    },
    {
      "cell_type": "markdown",
      "metadata": {
        "id": "ZldtOvJNu-ZR",
        "colab_type": "text"
      },
      "source": [
        "##  "
      ]
    },
    {
      "cell_type": "markdown",
      "metadata": {
        "id": "S8lORgowvOnn",
        "colab_type": "text"
      },
      "source": [
        "## **Evaluation metrics**"
      ]
    },
    {
      "cell_type": "markdown",
      "metadata": {
        "id": "n-alTWZ4vXXJ",
        "colab_type": "text"
      },
      "source": [
        "\n",
        "\n",
        "### 1.   *Precision*\n",
        "### 2.   *Recall* \n",
        "### 3.   *Accuracy*\n",
        "\n",
        "\n",
        "\n"
      ]
    },
    {
      "cell_type": "markdown",
      "metadata": {
        "id": "New-e9CtwEGM",
        "colab_type": "text"
      },
      "source": [
        "##  **LET'S GET STARTED!!...**\n",
        "\n",
        "## **Exploratory Data Analysis (EDA)** \n",
        "\n",
        "<!-- ![alt text](https://i.imgur.com/fe9ziOW.png) --> "
      ]
    },
    {
      "cell_type": "markdown",
      "metadata": {
        "id": "EVr6gocWu-w7",
        "colab_type": "text"
      },
      "source": [
        "**|| Importing the required libraries :-**\n",
        "\n",
        "![alt text](https://i.pinimg.com/564x/94/64/a0/9464a0d12bf959adb8010320d4624861.jpg)"
      ]
    },
    {
      "cell_type": "code",
      "metadata": {
        "id": "lJ0rOH-blX9h",
        "colab_type": "code",
        "colab": {}
      },
      "source": [
        "import pandas as pd\n",
        "import seaborn as sns\n",
        "import numpy as np\n",
        "import matplotlib.pyplot as plt\n",
        "%matplotlib inline\n",
        "from sklearn.linear_model import LogisticRegression \n",
        "from sklearn.ensemble import RandomForestClassifier\n",
        "from sklearn.tree import DecisionTreeClassifier\n",
        "import statsmodels.api as sm\n",
        "from sklearn.neighbors import KNeighborsClassifier\n",
        "from sklearn.svm import SVC, LinearSVC\n",
        "from sklearn.neural_network import MLPClassifier\n",
        "from sklearn import metrics\n",
        "from sklearn.ensemble import RandomForestClassifier\n",
        "from sklearn.compose import ColumnTransformer\n",
        "from sklearn.pipeline import Pipeline\n",
        "from sklearn.impute import SimpleImputer\n",
        "from sklearn.preprocessing import StandardScaler, OneHotEncoder, LabelEncoder\n",
        "from sklearn.feature_selection import SelectKBest, chi2\n",
        "from sklearn.linear_model import LogisticRegression\n",
        "from sklearn.model_selection import train_test_split\n",
        "from sklearn import preprocessing\n",
        "\n",
        "\n",
        "\n",
        "\n",
        "\n"
      ],
      "execution_count": null,
      "outputs": []
    },
    {
      "cell_type": "markdown",
      "metadata": {
        "id": "i0CNXgyEfHqb",
        "colab_type": "text"
      },
      "source": [
        "**|| Importing the dataset :-**"
      ]
    },
    {
      "cell_type": "code",
      "metadata": {
        "id": "u_ghy6jhlX9m",
        "colab_type": "code",
        "colab": {}
      },
      "source": [
        "url='https://raw.githubusercontent.com/arunk13/MSDA-Assignments/master/IS607Fall2015/Assignment3/student-mat.csv'\n",
        "math=pd.read_csv(url,sep=';')\n",
        "\n"
      ],
      "execution_count": null,
      "outputs": []
    },
    {
      "cell_type": "markdown",
      "metadata": {
        "id": "WtUnJ6QhfQsA",
        "colab_type": "text"
      },
      "source": [
        "**|| The following code displayes the first 5 samples :-**"
      ]
    },
    {
      "cell_type": "code",
      "metadata": {
        "id": "HwfLJFxplX9o",
        "colab_type": "code",
        "colab": {
          "base_uri": "https://localhost:8080/",
          "height": 224
        },
        "outputId": "42c897c6-11d5-44e3-ea47-5284269f1b20"
      },
      "source": [
        "math.head()"
      ],
      "execution_count": null,
      "outputs": [
        {
          "output_type": "execute_result",
          "data": {
            "text/html": [
              "<div>\n",
              "<style scoped>\n",
              "    .dataframe tbody tr th:only-of-type {\n",
              "        vertical-align: middle;\n",
              "    }\n",
              "\n",
              "    .dataframe tbody tr th {\n",
              "        vertical-align: top;\n",
              "    }\n",
              "\n",
              "    .dataframe thead th {\n",
              "        text-align: right;\n",
              "    }\n",
              "</style>\n",
              "<table border=\"1\" class=\"dataframe\">\n",
              "  <thead>\n",
              "    <tr style=\"text-align: right;\">\n",
              "      <th></th>\n",
              "      <th>school</th>\n",
              "      <th>sex</th>\n",
              "      <th>age</th>\n",
              "      <th>address</th>\n",
              "      <th>famsize</th>\n",
              "      <th>Pstatus</th>\n",
              "      <th>Medu</th>\n",
              "      <th>Fedu</th>\n",
              "      <th>Mjob</th>\n",
              "      <th>Fjob</th>\n",
              "      <th>reason</th>\n",
              "      <th>guardian</th>\n",
              "      <th>traveltime</th>\n",
              "      <th>studytime</th>\n",
              "      <th>failures</th>\n",
              "      <th>schoolsup</th>\n",
              "      <th>famsup</th>\n",
              "      <th>paid</th>\n",
              "      <th>activities</th>\n",
              "      <th>nursery</th>\n",
              "      <th>higher</th>\n",
              "      <th>internet</th>\n",
              "      <th>romantic</th>\n",
              "      <th>famrel</th>\n",
              "      <th>freetime</th>\n",
              "      <th>goout</th>\n",
              "      <th>Dalc</th>\n",
              "      <th>Walc</th>\n",
              "      <th>health</th>\n",
              "      <th>absences</th>\n",
              "      <th>G1</th>\n",
              "      <th>G2</th>\n",
              "      <th>G3</th>\n",
              "    </tr>\n",
              "  </thead>\n",
              "  <tbody>\n",
              "    <tr>\n",
              "      <th>0</th>\n",
              "      <td>GP</td>\n",
              "      <td>F</td>\n",
              "      <td>18</td>\n",
              "      <td>U</td>\n",
              "      <td>GT3</td>\n",
              "      <td>A</td>\n",
              "      <td>4</td>\n",
              "      <td>4</td>\n",
              "      <td>at_home</td>\n",
              "      <td>teacher</td>\n",
              "      <td>course</td>\n",
              "      <td>mother</td>\n",
              "      <td>2</td>\n",
              "      <td>2</td>\n",
              "      <td>0</td>\n",
              "      <td>yes</td>\n",
              "      <td>no</td>\n",
              "      <td>no</td>\n",
              "      <td>no</td>\n",
              "      <td>yes</td>\n",
              "      <td>yes</td>\n",
              "      <td>no</td>\n",
              "      <td>no</td>\n",
              "      <td>4</td>\n",
              "      <td>3</td>\n",
              "      <td>4</td>\n",
              "      <td>1</td>\n",
              "      <td>1</td>\n",
              "      <td>3</td>\n",
              "      <td>6</td>\n",
              "      <td>5</td>\n",
              "      <td>6</td>\n",
              "      <td>6</td>\n",
              "    </tr>\n",
              "    <tr>\n",
              "      <th>1</th>\n",
              "      <td>GP</td>\n",
              "      <td>F</td>\n",
              "      <td>17</td>\n",
              "      <td>U</td>\n",
              "      <td>GT3</td>\n",
              "      <td>T</td>\n",
              "      <td>1</td>\n",
              "      <td>1</td>\n",
              "      <td>at_home</td>\n",
              "      <td>other</td>\n",
              "      <td>course</td>\n",
              "      <td>father</td>\n",
              "      <td>1</td>\n",
              "      <td>2</td>\n",
              "      <td>0</td>\n",
              "      <td>no</td>\n",
              "      <td>yes</td>\n",
              "      <td>no</td>\n",
              "      <td>no</td>\n",
              "      <td>no</td>\n",
              "      <td>yes</td>\n",
              "      <td>yes</td>\n",
              "      <td>no</td>\n",
              "      <td>5</td>\n",
              "      <td>3</td>\n",
              "      <td>3</td>\n",
              "      <td>1</td>\n",
              "      <td>1</td>\n",
              "      <td>3</td>\n",
              "      <td>4</td>\n",
              "      <td>5</td>\n",
              "      <td>5</td>\n",
              "      <td>6</td>\n",
              "    </tr>\n",
              "    <tr>\n",
              "      <th>2</th>\n",
              "      <td>GP</td>\n",
              "      <td>F</td>\n",
              "      <td>15</td>\n",
              "      <td>U</td>\n",
              "      <td>LE3</td>\n",
              "      <td>T</td>\n",
              "      <td>1</td>\n",
              "      <td>1</td>\n",
              "      <td>at_home</td>\n",
              "      <td>other</td>\n",
              "      <td>other</td>\n",
              "      <td>mother</td>\n",
              "      <td>1</td>\n",
              "      <td>2</td>\n",
              "      <td>3</td>\n",
              "      <td>yes</td>\n",
              "      <td>no</td>\n",
              "      <td>yes</td>\n",
              "      <td>no</td>\n",
              "      <td>yes</td>\n",
              "      <td>yes</td>\n",
              "      <td>yes</td>\n",
              "      <td>no</td>\n",
              "      <td>4</td>\n",
              "      <td>3</td>\n",
              "      <td>2</td>\n",
              "      <td>2</td>\n",
              "      <td>3</td>\n",
              "      <td>3</td>\n",
              "      <td>10</td>\n",
              "      <td>7</td>\n",
              "      <td>8</td>\n",
              "      <td>10</td>\n",
              "    </tr>\n",
              "    <tr>\n",
              "      <th>3</th>\n",
              "      <td>GP</td>\n",
              "      <td>F</td>\n",
              "      <td>15</td>\n",
              "      <td>U</td>\n",
              "      <td>GT3</td>\n",
              "      <td>T</td>\n",
              "      <td>4</td>\n",
              "      <td>2</td>\n",
              "      <td>health</td>\n",
              "      <td>services</td>\n",
              "      <td>home</td>\n",
              "      <td>mother</td>\n",
              "      <td>1</td>\n",
              "      <td>3</td>\n",
              "      <td>0</td>\n",
              "      <td>no</td>\n",
              "      <td>yes</td>\n",
              "      <td>yes</td>\n",
              "      <td>yes</td>\n",
              "      <td>yes</td>\n",
              "      <td>yes</td>\n",
              "      <td>yes</td>\n",
              "      <td>yes</td>\n",
              "      <td>3</td>\n",
              "      <td>2</td>\n",
              "      <td>2</td>\n",
              "      <td>1</td>\n",
              "      <td>1</td>\n",
              "      <td>5</td>\n",
              "      <td>2</td>\n",
              "      <td>15</td>\n",
              "      <td>14</td>\n",
              "      <td>15</td>\n",
              "    </tr>\n",
              "    <tr>\n",
              "      <th>4</th>\n",
              "      <td>GP</td>\n",
              "      <td>F</td>\n",
              "      <td>16</td>\n",
              "      <td>U</td>\n",
              "      <td>GT3</td>\n",
              "      <td>T</td>\n",
              "      <td>3</td>\n",
              "      <td>3</td>\n",
              "      <td>other</td>\n",
              "      <td>other</td>\n",
              "      <td>home</td>\n",
              "      <td>father</td>\n",
              "      <td>1</td>\n",
              "      <td>2</td>\n",
              "      <td>0</td>\n",
              "      <td>no</td>\n",
              "      <td>yes</td>\n",
              "      <td>yes</td>\n",
              "      <td>no</td>\n",
              "      <td>yes</td>\n",
              "      <td>yes</td>\n",
              "      <td>no</td>\n",
              "      <td>no</td>\n",
              "      <td>4</td>\n",
              "      <td>3</td>\n",
              "      <td>2</td>\n",
              "      <td>1</td>\n",
              "      <td>2</td>\n",
              "      <td>5</td>\n",
              "      <td>4</td>\n",
              "      <td>6</td>\n",
              "      <td>10</td>\n",
              "      <td>10</td>\n",
              "    </tr>\n",
              "  </tbody>\n",
              "</table>\n",
              "</div>"
            ],
            "text/plain": [
              "  school sex  age address famsize Pstatus  ...  Walc  health absences  G1  G2  G3\n",
              "0     GP   F   18       U     GT3       A  ...     1       3        6   5   6   6\n",
              "1     GP   F   17       U     GT3       T  ...     1       3        4   5   5   6\n",
              "2     GP   F   15       U     LE3       T  ...     3       3       10   7   8  10\n",
              "3     GP   F   15       U     GT3       T  ...     1       5        2  15  14  15\n",
              "4     GP   F   16       U     GT3       T  ...     2       5        4   6  10  10\n",
              "\n",
              "[5 rows x 33 columns]"
            ]
          },
          "metadata": {
            "tags": []
          },
          "execution_count": 3
        }
      ]
    },
    {
      "cell_type": "markdown",
      "metadata": {
        "id": "4Igy3FIyfjGK",
        "colab_type": "text"
      },
      "source": [
        "**|| The following code displayes the last 5 samples :-**"
      ]
    },
    {
      "cell_type": "code",
      "metadata": {
        "id": "e6nOIhdglX9s",
        "colab_type": "code",
        "colab": {
          "base_uri": "https://localhost:8080/",
          "height": 224
        },
        "outputId": "dcae0159-8f70-4127-9e36-a34451df746c"
      },
      "source": [
        "math.tail()"
      ],
      "execution_count": null,
      "outputs": [
        {
          "output_type": "execute_result",
          "data": {
            "text/html": [
              "<div>\n",
              "<style scoped>\n",
              "    .dataframe tbody tr th:only-of-type {\n",
              "        vertical-align: middle;\n",
              "    }\n",
              "\n",
              "    .dataframe tbody tr th {\n",
              "        vertical-align: top;\n",
              "    }\n",
              "\n",
              "    .dataframe thead th {\n",
              "        text-align: right;\n",
              "    }\n",
              "</style>\n",
              "<table border=\"1\" class=\"dataframe\">\n",
              "  <thead>\n",
              "    <tr style=\"text-align: right;\">\n",
              "      <th></th>\n",
              "      <th>school</th>\n",
              "      <th>sex</th>\n",
              "      <th>age</th>\n",
              "      <th>address</th>\n",
              "      <th>famsize</th>\n",
              "      <th>Pstatus</th>\n",
              "      <th>Medu</th>\n",
              "      <th>Fedu</th>\n",
              "      <th>Mjob</th>\n",
              "      <th>Fjob</th>\n",
              "      <th>reason</th>\n",
              "      <th>guardian</th>\n",
              "      <th>traveltime</th>\n",
              "      <th>studytime</th>\n",
              "      <th>failures</th>\n",
              "      <th>schoolsup</th>\n",
              "      <th>famsup</th>\n",
              "      <th>paid</th>\n",
              "      <th>activities</th>\n",
              "      <th>nursery</th>\n",
              "      <th>higher</th>\n",
              "      <th>internet</th>\n",
              "      <th>romantic</th>\n",
              "      <th>famrel</th>\n",
              "      <th>freetime</th>\n",
              "      <th>goout</th>\n",
              "      <th>Dalc</th>\n",
              "      <th>Walc</th>\n",
              "      <th>health</th>\n",
              "      <th>absences</th>\n",
              "      <th>G1</th>\n",
              "      <th>G2</th>\n",
              "      <th>G3</th>\n",
              "    </tr>\n",
              "  </thead>\n",
              "  <tbody>\n",
              "    <tr>\n",
              "      <th>390</th>\n",
              "      <td>MS</td>\n",
              "      <td>M</td>\n",
              "      <td>20</td>\n",
              "      <td>U</td>\n",
              "      <td>LE3</td>\n",
              "      <td>A</td>\n",
              "      <td>2</td>\n",
              "      <td>2</td>\n",
              "      <td>services</td>\n",
              "      <td>services</td>\n",
              "      <td>course</td>\n",
              "      <td>other</td>\n",
              "      <td>1</td>\n",
              "      <td>2</td>\n",
              "      <td>2</td>\n",
              "      <td>no</td>\n",
              "      <td>yes</td>\n",
              "      <td>yes</td>\n",
              "      <td>no</td>\n",
              "      <td>yes</td>\n",
              "      <td>yes</td>\n",
              "      <td>no</td>\n",
              "      <td>no</td>\n",
              "      <td>5</td>\n",
              "      <td>5</td>\n",
              "      <td>4</td>\n",
              "      <td>4</td>\n",
              "      <td>5</td>\n",
              "      <td>4</td>\n",
              "      <td>11</td>\n",
              "      <td>9</td>\n",
              "      <td>9</td>\n",
              "      <td>9</td>\n",
              "    </tr>\n",
              "    <tr>\n",
              "      <th>391</th>\n",
              "      <td>MS</td>\n",
              "      <td>M</td>\n",
              "      <td>17</td>\n",
              "      <td>U</td>\n",
              "      <td>LE3</td>\n",
              "      <td>T</td>\n",
              "      <td>3</td>\n",
              "      <td>1</td>\n",
              "      <td>services</td>\n",
              "      <td>services</td>\n",
              "      <td>course</td>\n",
              "      <td>mother</td>\n",
              "      <td>2</td>\n",
              "      <td>1</td>\n",
              "      <td>0</td>\n",
              "      <td>no</td>\n",
              "      <td>no</td>\n",
              "      <td>no</td>\n",
              "      <td>no</td>\n",
              "      <td>no</td>\n",
              "      <td>yes</td>\n",
              "      <td>yes</td>\n",
              "      <td>no</td>\n",
              "      <td>2</td>\n",
              "      <td>4</td>\n",
              "      <td>5</td>\n",
              "      <td>3</td>\n",
              "      <td>4</td>\n",
              "      <td>2</td>\n",
              "      <td>3</td>\n",
              "      <td>14</td>\n",
              "      <td>16</td>\n",
              "      <td>16</td>\n",
              "    </tr>\n",
              "    <tr>\n",
              "      <th>392</th>\n",
              "      <td>MS</td>\n",
              "      <td>M</td>\n",
              "      <td>21</td>\n",
              "      <td>R</td>\n",
              "      <td>GT3</td>\n",
              "      <td>T</td>\n",
              "      <td>1</td>\n",
              "      <td>1</td>\n",
              "      <td>other</td>\n",
              "      <td>other</td>\n",
              "      <td>course</td>\n",
              "      <td>other</td>\n",
              "      <td>1</td>\n",
              "      <td>1</td>\n",
              "      <td>3</td>\n",
              "      <td>no</td>\n",
              "      <td>no</td>\n",
              "      <td>no</td>\n",
              "      <td>no</td>\n",
              "      <td>no</td>\n",
              "      <td>yes</td>\n",
              "      <td>no</td>\n",
              "      <td>no</td>\n",
              "      <td>5</td>\n",
              "      <td>5</td>\n",
              "      <td>3</td>\n",
              "      <td>3</td>\n",
              "      <td>3</td>\n",
              "      <td>3</td>\n",
              "      <td>3</td>\n",
              "      <td>10</td>\n",
              "      <td>8</td>\n",
              "      <td>7</td>\n",
              "    </tr>\n",
              "    <tr>\n",
              "      <th>393</th>\n",
              "      <td>MS</td>\n",
              "      <td>M</td>\n",
              "      <td>18</td>\n",
              "      <td>R</td>\n",
              "      <td>LE3</td>\n",
              "      <td>T</td>\n",
              "      <td>3</td>\n",
              "      <td>2</td>\n",
              "      <td>services</td>\n",
              "      <td>other</td>\n",
              "      <td>course</td>\n",
              "      <td>mother</td>\n",
              "      <td>3</td>\n",
              "      <td>1</td>\n",
              "      <td>0</td>\n",
              "      <td>no</td>\n",
              "      <td>no</td>\n",
              "      <td>no</td>\n",
              "      <td>no</td>\n",
              "      <td>no</td>\n",
              "      <td>yes</td>\n",
              "      <td>yes</td>\n",
              "      <td>no</td>\n",
              "      <td>4</td>\n",
              "      <td>4</td>\n",
              "      <td>1</td>\n",
              "      <td>3</td>\n",
              "      <td>4</td>\n",
              "      <td>5</td>\n",
              "      <td>0</td>\n",
              "      <td>11</td>\n",
              "      <td>12</td>\n",
              "      <td>10</td>\n",
              "    </tr>\n",
              "    <tr>\n",
              "      <th>394</th>\n",
              "      <td>MS</td>\n",
              "      <td>M</td>\n",
              "      <td>19</td>\n",
              "      <td>U</td>\n",
              "      <td>LE3</td>\n",
              "      <td>T</td>\n",
              "      <td>1</td>\n",
              "      <td>1</td>\n",
              "      <td>other</td>\n",
              "      <td>at_home</td>\n",
              "      <td>course</td>\n",
              "      <td>father</td>\n",
              "      <td>1</td>\n",
              "      <td>1</td>\n",
              "      <td>0</td>\n",
              "      <td>no</td>\n",
              "      <td>no</td>\n",
              "      <td>no</td>\n",
              "      <td>no</td>\n",
              "      <td>yes</td>\n",
              "      <td>yes</td>\n",
              "      <td>yes</td>\n",
              "      <td>no</td>\n",
              "      <td>3</td>\n",
              "      <td>2</td>\n",
              "      <td>3</td>\n",
              "      <td>3</td>\n",
              "      <td>3</td>\n",
              "      <td>5</td>\n",
              "      <td>5</td>\n",
              "      <td>8</td>\n",
              "      <td>9</td>\n",
              "      <td>9</td>\n",
              "    </tr>\n",
              "  </tbody>\n",
              "</table>\n",
              "</div>"
            ],
            "text/plain": [
              "    school sex  age address famsize Pstatus  ...  Walc  health absences  G1  G2  G3\n",
              "390     MS   M   20       U     LE3       A  ...     5       4       11   9   9   9\n",
              "391     MS   M   17       U     LE3       T  ...     4       2        3  14  16  16\n",
              "392     MS   M   21       R     GT3       T  ...     3       3        3  10   8   7\n",
              "393     MS   M   18       R     LE3       T  ...     4       5        0  11  12  10\n",
              "394     MS   M   19       U     LE3       T  ...     3       5        5   8   9   9\n",
              "\n",
              "[5 rows x 33 columns]"
            ]
          },
          "metadata": {
            "tags": []
          },
          "execution_count": 4
        }
      ]
    },
    {
      "cell_type": "markdown",
      "metadata": {
        "id": "H40uNx9Cfh--",
        "colab_type": "text"
      },
      "source": [
        "**|| The following code displayes the dataset's information :-**"
      ]
    },
    {
      "cell_type": "code",
      "metadata": {
        "id": "Pn39y5m_lX9u",
        "colab_type": "code",
        "colab": {
          "base_uri": "https://localhost:8080/",
          "height": 663
        },
        "outputId": "74a5d120-4396-4bc9-978a-4bf540d5adda"
      },
      "source": [
        "math.info()"
      ],
      "execution_count": null,
      "outputs": [
        {
          "output_type": "stream",
          "text": [
            "<class 'pandas.core.frame.DataFrame'>\n",
            "RangeIndex: 395 entries, 0 to 394\n",
            "Data columns (total 33 columns):\n",
            "school        395 non-null object\n",
            "sex           395 non-null object\n",
            "age           395 non-null int64\n",
            "address       395 non-null object\n",
            "famsize       395 non-null object\n",
            "Pstatus       395 non-null object\n",
            "Medu          395 non-null int64\n",
            "Fedu          395 non-null int64\n",
            "Mjob          395 non-null object\n",
            "Fjob          395 non-null object\n",
            "reason        395 non-null object\n",
            "guardian      395 non-null object\n",
            "traveltime    395 non-null int64\n",
            "studytime     395 non-null int64\n",
            "failures      395 non-null int64\n",
            "schoolsup     395 non-null object\n",
            "famsup        395 non-null object\n",
            "paid          395 non-null object\n",
            "activities    395 non-null object\n",
            "nursery       395 non-null object\n",
            "higher        395 non-null object\n",
            "internet      395 non-null object\n",
            "romantic      395 non-null object\n",
            "famrel        395 non-null int64\n",
            "freetime      395 non-null int64\n",
            "goout         395 non-null int64\n",
            "Dalc          395 non-null int64\n",
            "Walc          395 non-null int64\n",
            "health        395 non-null int64\n",
            "absences      395 non-null int64\n",
            "G1            395 non-null int64\n",
            "G2            395 non-null int64\n",
            "G3            395 non-null int64\n",
            "dtypes: int64(16), object(17)\n",
            "memory usage: 102.0+ KB\n"
          ],
          "name": "stdout"
        }
      ]
    },
    {
      "cell_type": "code",
      "metadata": {
        "id": "iYSVRolP3rf5",
        "colab_type": "code",
        "colab": {
          "base_uri": "https://localhost:8080/",
          "height": 224
        },
        "outputId": "dd991d05-3949-4994-d240-6f3b6fe5259f"
      },
      "source": [
        "math.head(5)"
      ],
      "execution_count": null,
      "outputs": [
        {
          "output_type": "execute_result",
          "data": {
            "text/html": [
              "<div>\n",
              "<style scoped>\n",
              "    .dataframe tbody tr th:only-of-type {\n",
              "        vertical-align: middle;\n",
              "    }\n",
              "\n",
              "    .dataframe tbody tr th {\n",
              "        vertical-align: top;\n",
              "    }\n",
              "\n",
              "    .dataframe thead th {\n",
              "        text-align: right;\n",
              "    }\n",
              "</style>\n",
              "<table border=\"1\" class=\"dataframe\">\n",
              "  <thead>\n",
              "    <tr style=\"text-align: right;\">\n",
              "      <th></th>\n",
              "      <th>school</th>\n",
              "      <th>sex</th>\n",
              "      <th>age</th>\n",
              "      <th>address</th>\n",
              "      <th>famsize</th>\n",
              "      <th>Pstatus</th>\n",
              "      <th>Medu</th>\n",
              "      <th>Fedu</th>\n",
              "      <th>Mjob</th>\n",
              "      <th>Fjob</th>\n",
              "      <th>reason</th>\n",
              "      <th>guardian</th>\n",
              "      <th>traveltime</th>\n",
              "      <th>studytime</th>\n",
              "      <th>failures</th>\n",
              "      <th>schoolsup</th>\n",
              "      <th>famsup</th>\n",
              "      <th>paid</th>\n",
              "      <th>activities</th>\n",
              "      <th>nursery</th>\n",
              "      <th>higher</th>\n",
              "      <th>internet</th>\n",
              "      <th>romantic</th>\n",
              "      <th>famrel</th>\n",
              "      <th>freetime</th>\n",
              "      <th>goout</th>\n",
              "      <th>Dalc</th>\n",
              "      <th>Walc</th>\n",
              "      <th>health</th>\n",
              "      <th>absences</th>\n",
              "      <th>G1</th>\n",
              "      <th>G2</th>\n",
              "      <th>G3</th>\n",
              "    </tr>\n",
              "  </thead>\n",
              "  <tbody>\n",
              "    <tr>\n",
              "      <th>0</th>\n",
              "      <td>GP</td>\n",
              "      <td>F</td>\n",
              "      <td>18</td>\n",
              "      <td>U</td>\n",
              "      <td>GT3</td>\n",
              "      <td>A</td>\n",
              "      <td>4</td>\n",
              "      <td>4</td>\n",
              "      <td>at_home</td>\n",
              "      <td>teacher</td>\n",
              "      <td>course</td>\n",
              "      <td>mother</td>\n",
              "      <td>2</td>\n",
              "      <td>2</td>\n",
              "      <td>0</td>\n",
              "      <td>yes</td>\n",
              "      <td>no</td>\n",
              "      <td>no</td>\n",
              "      <td>no</td>\n",
              "      <td>yes</td>\n",
              "      <td>yes</td>\n",
              "      <td>no</td>\n",
              "      <td>no</td>\n",
              "      <td>4</td>\n",
              "      <td>3</td>\n",
              "      <td>4</td>\n",
              "      <td>1</td>\n",
              "      <td>1</td>\n",
              "      <td>3</td>\n",
              "      <td>6</td>\n",
              "      <td>5</td>\n",
              "      <td>6</td>\n",
              "      <td>6</td>\n",
              "    </tr>\n",
              "    <tr>\n",
              "      <th>1</th>\n",
              "      <td>GP</td>\n",
              "      <td>F</td>\n",
              "      <td>17</td>\n",
              "      <td>U</td>\n",
              "      <td>GT3</td>\n",
              "      <td>T</td>\n",
              "      <td>1</td>\n",
              "      <td>1</td>\n",
              "      <td>at_home</td>\n",
              "      <td>other</td>\n",
              "      <td>course</td>\n",
              "      <td>father</td>\n",
              "      <td>1</td>\n",
              "      <td>2</td>\n",
              "      <td>0</td>\n",
              "      <td>no</td>\n",
              "      <td>yes</td>\n",
              "      <td>no</td>\n",
              "      <td>no</td>\n",
              "      <td>no</td>\n",
              "      <td>yes</td>\n",
              "      <td>yes</td>\n",
              "      <td>no</td>\n",
              "      <td>5</td>\n",
              "      <td>3</td>\n",
              "      <td>3</td>\n",
              "      <td>1</td>\n",
              "      <td>1</td>\n",
              "      <td>3</td>\n",
              "      <td>4</td>\n",
              "      <td>5</td>\n",
              "      <td>5</td>\n",
              "      <td>6</td>\n",
              "    </tr>\n",
              "    <tr>\n",
              "      <th>2</th>\n",
              "      <td>GP</td>\n",
              "      <td>F</td>\n",
              "      <td>15</td>\n",
              "      <td>U</td>\n",
              "      <td>LE3</td>\n",
              "      <td>T</td>\n",
              "      <td>1</td>\n",
              "      <td>1</td>\n",
              "      <td>at_home</td>\n",
              "      <td>other</td>\n",
              "      <td>other</td>\n",
              "      <td>mother</td>\n",
              "      <td>1</td>\n",
              "      <td>2</td>\n",
              "      <td>3</td>\n",
              "      <td>yes</td>\n",
              "      <td>no</td>\n",
              "      <td>yes</td>\n",
              "      <td>no</td>\n",
              "      <td>yes</td>\n",
              "      <td>yes</td>\n",
              "      <td>yes</td>\n",
              "      <td>no</td>\n",
              "      <td>4</td>\n",
              "      <td>3</td>\n",
              "      <td>2</td>\n",
              "      <td>2</td>\n",
              "      <td>3</td>\n",
              "      <td>3</td>\n",
              "      <td>10</td>\n",
              "      <td>7</td>\n",
              "      <td>8</td>\n",
              "      <td>10</td>\n",
              "    </tr>\n",
              "    <tr>\n",
              "      <th>3</th>\n",
              "      <td>GP</td>\n",
              "      <td>F</td>\n",
              "      <td>15</td>\n",
              "      <td>U</td>\n",
              "      <td>GT3</td>\n",
              "      <td>T</td>\n",
              "      <td>4</td>\n",
              "      <td>2</td>\n",
              "      <td>health</td>\n",
              "      <td>services</td>\n",
              "      <td>home</td>\n",
              "      <td>mother</td>\n",
              "      <td>1</td>\n",
              "      <td>3</td>\n",
              "      <td>0</td>\n",
              "      <td>no</td>\n",
              "      <td>yes</td>\n",
              "      <td>yes</td>\n",
              "      <td>yes</td>\n",
              "      <td>yes</td>\n",
              "      <td>yes</td>\n",
              "      <td>yes</td>\n",
              "      <td>yes</td>\n",
              "      <td>3</td>\n",
              "      <td>2</td>\n",
              "      <td>2</td>\n",
              "      <td>1</td>\n",
              "      <td>1</td>\n",
              "      <td>5</td>\n",
              "      <td>2</td>\n",
              "      <td>15</td>\n",
              "      <td>14</td>\n",
              "      <td>15</td>\n",
              "    </tr>\n",
              "    <tr>\n",
              "      <th>4</th>\n",
              "      <td>GP</td>\n",
              "      <td>F</td>\n",
              "      <td>16</td>\n",
              "      <td>U</td>\n",
              "      <td>GT3</td>\n",
              "      <td>T</td>\n",
              "      <td>3</td>\n",
              "      <td>3</td>\n",
              "      <td>other</td>\n",
              "      <td>other</td>\n",
              "      <td>home</td>\n",
              "      <td>father</td>\n",
              "      <td>1</td>\n",
              "      <td>2</td>\n",
              "      <td>0</td>\n",
              "      <td>no</td>\n",
              "      <td>yes</td>\n",
              "      <td>yes</td>\n",
              "      <td>no</td>\n",
              "      <td>yes</td>\n",
              "      <td>yes</td>\n",
              "      <td>no</td>\n",
              "      <td>no</td>\n",
              "      <td>4</td>\n",
              "      <td>3</td>\n",
              "      <td>2</td>\n",
              "      <td>1</td>\n",
              "      <td>2</td>\n",
              "      <td>5</td>\n",
              "      <td>4</td>\n",
              "      <td>6</td>\n",
              "      <td>10</td>\n",
              "      <td>10</td>\n",
              "    </tr>\n",
              "  </tbody>\n",
              "</table>\n",
              "</div>"
            ],
            "text/plain": [
              "  school sex  age address famsize Pstatus  ...  Walc  health absences  G1  G2  G3\n",
              "0     GP   F   18       U     GT3       A  ...     1       3        6   5   6   6\n",
              "1     GP   F   17       U     GT3       T  ...     1       3        4   5   5   6\n",
              "2     GP   F   15       U     LE3       T  ...     3       3       10   7   8  10\n",
              "3     GP   F   15       U     GT3       T  ...     1       5        2  15  14  15\n",
              "4     GP   F   16       U     GT3       T  ...     2       5        4   6  10  10\n",
              "\n",
              "[5 rows x 33 columns]"
            ]
          },
          "metadata": {
            "tags": []
          },
          "execution_count": 6
        }
      ]
    },
    {
      "cell_type": "markdown",
      "metadata": {
        "id": "3ubPWvsLlX9w",
        "colab_type": "text"
      },
      "source": [
        "* From the above displayed information we can tell that there's no missing values."
      ]
    },
    {
      "cell_type": "markdown",
      "metadata": {
        "id": "S5tu6fcLf8a8",
        "colab_type": "text"
      },
      "source": [
        "**|| The following code displayes the description of the dataset :-**"
      ]
    },
    {
      "cell_type": "code",
      "metadata": {
        "id": "nEQLYtwrgHNA",
        "colab_type": "code",
        "colab": {
          "base_uri": "https://localhost:8080/",
          "height": 317
        },
        "outputId": "42137b27-570a-49e7-cac1-cc7a16ca4ef4"
      },
      "source": [
        "math.describe()"
      ],
      "execution_count": null,
      "outputs": [
        {
          "output_type": "execute_result",
          "data": {
            "text/html": [
              "<div>\n",
              "<style scoped>\n",
              "    .dataframe tbody tr th:only-of-type {\n",
              "        vertical-align: middle;\n",
              "    }\n",
              "\n",
              "    .dataframe tbody tr th {\n",
              "        vertical-align: top;\n",
              "    }\n",
              "\n",
              "    .dataframe thead th {\n",
              "        text-align: right;\n",
              "    }\n",
              "</style>\n",
              "<table border=\"1\" class=\"dataframe\">\n",
              "  <thead>\n",
              "    <tr style=\"text-align: right;\">\n",
              "      <th></th>\n",
              "      <th>age</th>\n",
              "      <th>Medu</th>\n",
              "      <th>Fedu</th>\n",
              "      <th>traveltime</th>\n",
              "      <th>studytime</th>\n",
              "      <th>failures</th>\n",
              "      <th>famrel</th>\n",
              "      <th>freetime</th>\n",
              "      <th>goout</th>\n",
              "      <th>Dalc</th>\n",
              "      <th>Walc</th>\n",
              "      <th>health</th>\n",
              "      <th>absences</th>\n",
              "      <th>G1</th>\n",
              "      <th>G2</th>\n",
              "      <th>G3</th>\n",
              "    </tr>\n",
              "  </thead>\n",
              "  <tbody>\n",
              "    <tr>\n",
              "      <th>count</th>\n",
              "      <td>395.000000</td>\n",
              "      <td>395.000000</td>\n",
              "      <td>395.000000</td>\n",
              "      <td>395.000000</td>\n",
              "      <td>395.000000</td>\n",
              "      <td>395.000000</td>\n",
              "      <td>395.000000</td>\n",
              "      <td>395.000000</td>\n",
              "      <td>395.000000</td>\n",
              "      <td>395.000000</td>\n",
              "      <td>395.000000</td>\n",
              "      <td>395.000000</td>\n",
              "      <td>395.000000</td>\n",
              "      <td>395.000000</td>\n",
              "      <td>395.000000</td>\n",
              "      <td>395.000000</td>\n",
              "    </tr>\n",
              "    <tr>\n",
              "      <th>mean</th>\n",
              "      <td>16.696203</td>\n",
              "      <td>2.749367</td>\n",
              "      <td>2.521519</td>\n",
              "      <td>1.448101</td>\n",
              "      <td>2.035443</td>\n",
              "      <td>0.334177</td>\n",
              "      <td>3.944304</td>\n",
              "      <td>3.235443</td>\n",
              "      <td>3.108861</td>\n",
              "      <td>1.481013</td>\n",
              "      <td>2.291139</td>\n",
              "      <td>3.554430</td>\n",
              "      <td>5.708861</td>\n",
              "      <td>10.908861</td>\n",
              "      <td>10.713924</td>\n",
              "      <td>10.415190</td>\n",
              "    </tr>\n",
              "    <tr>\n",
              "      <th>std</th>\n",
              "      <td>1.276043</td>\n",
              "      <td>1.094735</td>\n",
              "      <td>1.088201</td>\n",
              "      <td>0.697505</td>\n",
              "      <td>0.839240</td>\n",
              "      <td>0.743651</td>\n",
              "      <td>0.896659</td>\n",
              "      <td>0.998862</td>\n",
              "      <td>1.113278</td>\n",
              "      <td>0.890741</td>\n",
              "      <td>1.287897</td>\n",
              "      <td>1.390303</td>\n",
              "      <td>8.003096</td>\n",
              "      <td>3.319195</td>\n",
              "      <td>3.761505</td>\n",
              "      <td>4.581443</td>\n",
              "    </tr>\n",
              "    <tr>\n",
              "      <th>min</th>\n",
              "      <td>15.000000</td>\n",
              "      <td>0.000000</td>\n",
              "      <td>0.000000</td>\n",
              "      <td>1.000000</td>\n",
              "      <td>1.000000</td>\n",
              "      <td>0.000000</td>\n",
              "      <td>1.000000</td>\n",
              "      <td>1.000000</td>\n",
              "      <td>1.000000</td>\n",
              "      <td>1.000000</td>\n",
              "      <td>1.000000</td>\n",
              "      <td>1.000000</td>\n",
              "      <td>0.000000</td>\n",
              "      <td>3.000000</td>\n",
              "      <td>0.000000</td>\n",
              "      <td>0.000000</td>\n",
              "    </tr>\n",
              "    <tr>\n",
              "      <th>25%</th>\n",
              "      <td>16.000000</td>\n",
              "      <td>2.000000</td>\n",
              "      <td>2.000000</td>\n",
              "      <td>1.000000</td>\n",
              "      <td>1.000000</td>\n",
              "      <td>0.000000</td>\n",
              "      <td>4.000000</td>\n",
              "      <td>3.000000</td>\n",
              "      <td>2.000000</td>\n",
              "      <td>1.000000</td>\n",
              "      <td>1.000000</td>\n",
              "      <td>3.000000</td>\n",
              "      <td>0.000000</td>\n",
              "      <td>8.000000</td>\n",
              "      <td>9.000000</td>\n",
              "      <td>8.000000</td>\n",
              "    </tr>\n",
              "    <tr>\n",
              "      <th>50%</th>\n",
              "      <td>17.000000</td>\n",
              "      <td>3.000000</td>\n",
              "      <td>2.000000</td>\n",
              "      <td>1.000000</td>\n",
              "      <td>2.000000</td>\n",
              "      <td>0.000000</td>\n",
              "      <td>4.000000</td>\n",
              "      <td>3.000000</td>\n",
              "      <td>3.000000</td>\n",
              "      <td>1.000000</td>\n",
              "      <td>2.000000</td>\n",
              "      <td>4.000000</td>\n",
              "      <td>4.000000</td>\n",
              "      <td>11.000000</td>\n",
              "      <td>11.000000</td>\n",
              "      <td>11.000000</td>\n",
              "    </tr>\n",
              "    <tr>\n",
              "      <th>75%</th>\n",
              "      <td>18.000000</td>\n",
              "      <td>4.000000</td>\n",
              "      <td>3.000000</td>\n",
              "      <td>2.000000</td>\n",
              "      <td>2.000000</td>\n",
              "      <td>0.000000</td>\n",
              "      <td>5.000000</td>\n",
              "      <td>4.000000</td>\n",
              "      <td>4.000000</td>\n",
              "      <td>2.000000</td>\n",
              "      <td>3.000000</td>\n",
              "      <td>5.000000</td>\n",
              "      <td>8.000000</td>\n",
              "      <td>13.000000</td>\n",
              "      <td>13.000000</td>\n",
              "      <td>14.000000</td>\n",
              "    </tr>\n",
              "    <tr>\n",
              "      <th>max</th>\n",
              "      <td>22.000000</td>\n",
              "      <td>4.000000</td>\n",
              "      <td>4.000000</td>\n",
              "      <td>4.000000</td>\n",
              "      <td>4.000000</td>\n",
              "      <td>3.000000</td>\n",
              "      <td>5.000000</td>\n",
              "      <td>5.000000</td>\n",
              "      <td>5.000000</td>\n",
              "      <td>5.000000</td>\n",
              "      <td>5.000000</td>\n",
              "      <td>5.000000</td>\n",
              "      <td>75.000000</td>\n",
              "      <td>19.000000</td>\n",
              "      <td>19.000000</td>\n",
              "      <td>20.000000</td>\n",
              "    </tr>\n",
              "  </tbody>\n",
              "</table>\n",
              "</div>"
            ],
            "text/plain": [
              "              age        Medu        Fedu  ...          G1          G2          G3\n",
              "count  395.000000  395.000000  395.000000  ...  395.000000  395.000000  395.000000\n",
              "mean    16.696203    2.749367    2.521519  ...   10.908861   10.713924   10.415190\n",
              "std      1.276043    1.094735    1.088201  ...    3.319195    3.761505    4.581443\n",
              "min     15.000000    0.000000    0.000000  ...    3.000000    0.000000    0.000000\n",
              "25%     16.000000    2.000000    2.000000  ...    8.000000    9.000000    8.000000\n",
              "50%     17.000000    3.000000    2.000000  ...   11.000000   11.000000   11.000000\n",
              "75%     18.000000    4.000000    3.000000  ...   13.000000   13.000000   14.000000\n",
              "max     22.000000    4.000000    4.000000  ...   19.000000   19.000000   20.000000\n",
              "\n",
              "[8 rows x 16 columns]"
            ]
          },
          "metadata": {
            "tags": []
          },
          "execution_count": 7
        }
      ]
    },
    {
      "cell_type": "markdown",
      "metadata": {
        "id": "BZnOCemcgOGi",
        "colab_type": "text"
      },
      "source": [
        "**|| The following code displayes the number of Females and Males students :-**"
      ]
    },
    {
      "cell_type": "code",
      "metadata": {
        "id": "1fQYB2okga4b",
        "colab_type": "code",
        "colab": {
          "base_uri": "https://localhost:8080/",
          "height": 68
        },
        "outputId": "5cac029f-475f-4bc8-aed5-4f1247fe68e3"
      },
      "source": [
        "math['sex'].value_counts()"
      ],
      "execution_count": null,
      "outputs": [
        {
          "output_type": "execute_result",
          "data": {
            "text/plain": [
              "F    208\n",
              "M    187\n",
              "Name: sex, dtype: int64"
            ]
          },
          "metadata": {
            "tags": []
          },
          "execution_count": 8
        }
      ]
    },
    {
      "cell_type": "markdown",
      "metadata": {
        "id": "yqn5HrB-gpSq",
        "colab_type": "text"
      },
      "source": [
        "**|| The following code displayes a grouping made based on the sex, and then finding the mean of the final grade for each :-**"
      ]
    },
    {
      "cell_type": "code",
      "metadata": {
        "id": "SVc1evRNhM2j",
        "colab_type": "code",
        "colab": {
          "base_uri": "https://localhost:8080/",
          "height": 85
        },
        "outputId": "a590fbb9-3e31-46e2-bf29-302aeb711cea"
      },
      "source": [
        "math.groupby('sex')['G3'].mean()"
      ],
      "execution_count": null,
      "outputs": [
        {
          "output_type": "execute_result",
          "data": {
            "text/plain": [
              "sex\n",
              "F     9.966346\n",
              "M    10.914439\n",
              "Name: G3, dtype: float64"
            ]
          },
          "metadata": {
            "tags": []
          },
          "execution_count": 9
        }
      ]
    },
    {
      "cell_type": "markdown",
      "metadata": {
        "id": "Ha6nmItghx0t",
        "colab_type": "text"
      },
      "source": [
        "*-- From the previous output we can see that the males final grades are higher than the females!*\n",
        "\n",
        "*(Coders' note: naah not buying it..femals always better in everything :) )*"
      ]
    },
    {
      "cell_type": "markdown",
      "metadata": {
        "id": "48r09Nd0lX9w",
        "colab_type": "text"
      },
      "source": [
        "\n",
        "## **Data Preparation**\n",
        "*--\"Data Pre-processing\"*\n",
        "\n",
        "![alt text](https://i.imgur.com/LsqthWS.png)"
      ]
    },
    {
      "cell_type": "markdown",
      "metadata": {
        "id": "JveajxMSmUoD",
        "colab_type": "text"
      },
      "source": [
        "**|| The following code rename the columns :-**"
      ]
    },
    {
      "cell_type": "code",
      "metadata": {
        "scrolled": true,
        "id": "UnDJzEIelX9w",
        "colab_type": "code",
        "colab": {}
      },
      "source": [
        "math.columns = ['school','sex','age','address','family_size','parents_status','mother_education','father_education',\n",
        "           'mother_job','father_job','reason','guardian','commute_time','study_time','failures','school_support',\n",
        "          'family_support','paid_classes','activities','nursery','desire_higher_edu','internet','romantic','family_quality',\n",
        "          'free_time','go_out','weekday_alcohol_usage','weekend_alcohol_usage','health','absences','period1_score','period2_score','final_score']"
      ],
      "execution_count": null,
      "outputs": []
    },
    {
      "cell_type": "markdown",
      "metadata": {
        "id": "vFfbmVWkmq76",
        "colab_type": "text"
      },
      "source": [
        "*-- The following code is to check the success of the previous renaming code.*"
      ]
    },
    {
      "cell_type": "code",
      "metadata": {
        "id": "Tw7OjrCmnItL",
        "colab_type": "code",
        "colab": {
          "base_uri": "https://localhost:8080/",
          "height": 663
        },
        "outputId": "ce20dda3-21b1-4f08-ccd0-df9d4f89a0e2"
      },
      "source": [
        "math.info()"
      ],
      "execution_count": null,
      "outputs": [
        {
          "output_type": "stream",
          "text": [
            "<class 'pandas.core.frame.DataFrame'>\n",
            "RangeIndex: 395 entries, 0 to 394\n",
            "Data columns (total 33 columns):\n",
            "school                   395 non-null object\n",
            "sex                      395 non-null object\n",
            "age                      395 non-null int64\n",
            "address                  395 non-null object\n",
            "family_size              395 non-null object\n",
            "parents_status           395 non-null object\n",
            "mother_education         395 non-null int64\n",
            "father_education         395 non-null int64\n",
            "mother_job               395 non-null object\n",
            "father_job               395 non-null object\n",
            "reason                   395 non-null object\n",
            "guardian                 395 non-null object\n",
            "commute_time             395 non-null int64\n",
            "study_time               395 non-null int64\n",
            "failures                 395 non-null int64\n",
            "school_support           395 non-null object\n",
            "family_support           395 non-null object\n",
            "paid_classes             395 non-null object\n",
            "activities               395 non-null object\n",
            "nursery                  395 non-null object\n",
            "desire_higher_edu        395 non-null object\n",
            "internet                 395 non-null object\n",
            "romantic                 395 non-null object\n",
            "family_quality           395 non-null int64\n",
            "free_time                395 non-null int64\n",
            "go_out                   395 non-null int64\n",
            "weekday_alcohol_usage    395 non-null int64\n",
            "weekend_alcohol_usage    395 non-null int64\n",
            "health                   395 non-null int64\n",
            "absences                 395 non-null int64\n",
            "period1_score            395 non-null int64\n",
            "period2_score            395 non-null int64\n",
            "final_score              395 non-null int64\n",
            "dtypes: int64(16), object(17)\n",
            "memory usage: 102.0+ KB\n"
          ],
          "name": "stdout"
        }
      ]
    },
    {
      "cell_type": "markdown",
      "metadata": {
        "id": "FqfmmYr9pNOM",
        "colab_type": "text"
      },
      "source": [
        "*-- The names of the dataset's columns changed successfully!*"
      ]
    },
    {
      "cell_type": "markdown",
      "metadata": {
        "id": "NfEh4pz7n_FZ",
        "colab_type": "text"
      },
      "source": [
        "**|| The following code will create a new column to convert the final score values to catagorical values**"
      ]
    },
    {
      "cell_type": "code",
      "metadata": {
        "id": "8xK-x2M9n8IO",
        "colab_type": "code",
        "colab": {
          "base_uri": "https://localhost:8080/",
          "height": 224
        },
        "outputId": "076494d5-fb82-4f1b-ccbc-aef5dd90ff0a"
      },
      "source": [
        "math['final_grade'] = 'na'\n",
        "math.loc[(math.final_score >= 15) & (math.final_score <= 20), 'final_grade'] = 'Excelent' \n",
        "math.loc[(math.final_score >= 10) & (math.final_score <= 14), 'final_grade'] = 'Good' \n",
        "math.loc[(math.final_score >= 0) & (math.final_score <= 9), 'final_grade'] = 'Fail' \n",
        "math.head(5)"
      ],
      "execution_count": null,
      "outputs": [
        {
          "output_type": "execute_result",
          "data": {
            "text/html": [
              "<div>\n",
              "<style scoped>\n",
              "    .dataframe tbody tr th:only-of-type {\n",
              "        vertical-align: middle;\n",
              "    }\n",
              "\n",
              "    .dataframe tbody tr th {\n",
              "        vertical-align: top;\n",
              "    }\n",
              "\n",
              "    .dataframe thead th {\n",
              "        text-align: right;\n",
              "    }\n",
              "</style>\n",
              "<table border=\"1\" class=\"dataframe\">\n",
              "  <thead>\n",
              "    <tr style=\"text-align: right;\">\n",
              "      <th></th>\n",
              "      <th>school</th>\n",
              "      <th>sex</th>\n",
              "      <th>age</th>\n",
              "      <th>address</th>\n",
              "      <th>family_size</th>\n",
              "      <th>parents_status</th>\n",
              "      <th>mother_education</th>\n",
              "      <th>father_education</th>\n",
              "      <th>mother_job</th>\n",
              "      <th>father_job</th>\n",
              "      <th>reason</th>\n",
              "      <th>guardian</th>\n",
              "      <th>commute_time</th>\n",
              "      <th>study_time</th>\n",
              "      <th>failures</th>\n",
              "      <th>school_support</th>\n",
              "      <th>family_support</th>\n",
              "      <th>paid_classes</th>\n",
              "      <th>activities</th>\n",
              "      <th>nursery</th>\n",
              "      <th>desire_higher_edu</th>\n",
              "      <th>internet</th>\n",
              "      <th>romantic</th>\n",
              "      <th>family_quality</th>\n",
              "      <th>free_time</th>\n",
              "      <th>go_out</th>\n",
              "      <th>weekday_alcohol_usage</th>\n",
              "      <th>weekend_alcohol_usage</th>\n",
              "      <th>health</th>\n",
              "      <th>absences</th>\n",
              "      <th>period1_score</th>\n",
              "      <th>period2_score</th>\n",
              "      <th>final_score</th>\n",
              "      <th>final_grade</th>\n",
              "    </tr>\n",
              "  </thead>\n",
              "  <tbody>\n",
              "    <tr>\n",
              "      <th>0</th>\n",
              "      <td>GP</td>\n",
              "      <td>F</td>\n",
              "      <td>18</td>\n",
              "      <td>U</td>\n",
              "      <td>GT3</td>\n",
              "      <td>A</td>\n",
              "      <td>4</td>\n",
              "      <td>4</td>\n",
              "      <td>at_home</td>\n",
              "      <td>teacher</td>\n",
              "      <td>course</td>\n",
              "      <td>mother</td>\n",
              "      <td>2</td>\n",
              "      <td>2</td>\n",
              "      <td>0</td>\n",
              "      <td>yes</td>\n",
              "      <td>no</td>\n",
              "      <td>no</td>\n",
              "      <td>no</td>\n",
              "      <td>yes</td>\n",
              "      <td>yes</td>\n",
              "      <td>no</td>\n",
              "      <td>no</td>\n",
              "      <td>4</td>\n",
              "      <td>3</td>\n",
              "      <td>4</td>\n",
              "      <td>1</td>\n",
              "      <td>1</td>\n",
              "      <td>3</td>\n",
              "      <td>6</td>\n",
              "      <td>5</td>\n",
              "      <td>6</td>\n",
              "      <td>6</td>\n",
              "      <td>Fail</td>\n",
              "    </tr>\n",
              "    <tr>\n",
              "      <th>1</th>\n",
              "      <td>GP</td>\n",
              "      <td>F</td>\n",
              "      <td>17</td>\n",
              "      <td>U</td>\n",
              "      <td>GT3</td>\n",
              "      <td>T</td>\n",
              "      <td>1</td>\n",
              "      <td>1</td>\n",
              "      <td>at_home</td>\n",
              "      <td>other</td>\n",
              "      <td>course</td>\n",
              "      <td>father</td>\n",
              "      <td>1</td>\n",
              "      <td>2</td>\n",
              "      <td>0</td>\n",
              "      <td>no</td>\n",
              "      <td>yes</td>\n",
              "      <td>no</td>\n",
              "      <td>no</td>\n",
              "      <td>no</td>\n",
              "      <td>yes</td>\n",
              "      <td>yes</td>\n",
              "      <td>no</td>\n",
              "      <td>5</td>\n",
              "      <td>3</td>\n",
              "      <td>3</td>\n",
              "      <td>1</td>\n",
              "      <td>1</td>\n",
              "      <td>3</td>\n",
              "      <td>4</td>\n",
              "      <td>5</td>\n",
              "      <td>5</td>\n",
              "      <td>6</td>\n",
              "      <td>Fail</td>\n",
              "    </tr>\n",
              "    <tr>\n",
              "      <th>2</th>\n",
              "      <td>GP</td>\n",
              "      <td>F</td>\n",
              "      <td>15</td>\n",
              "      <td>U</td>\n",
              "      <td>LE3</td>\n",
              "      <td>T</td>\n",
              "      <td>1</td>\n",
              "      <td>1</td>\n",
              "      <td>at_home</td>\n",
              "      <td>other</td>\n",
              "      <td>other</td>\n",
              "      <td>mother</td>\n",
              "      <td>1</td>\n",
              "      <td>2</td>\n",
              "      <td>3</td>\n",
              "      <td>yes</td>\n",
              "      <td>no</td>\n",
              "      <td>yes</td>\n",
              "      <td>no</td>\n",
              "      <td>yes</td>\n",
              "      <td>yes</td>\n",
              "      <td>yes</td>\n",
              "      <td>no</td>\n",
              "      <td>4</td>\n",
              "      <td>3</td>\n",
              "      <td>2</td>\n",
              "      <td>2</td>\n",
              "      <td>3</td>\n",
              "      <td>3</td>\n",
              "      <td>10</td>\n",
              "      <td>7</td>\n",
              "      <td>8</td>\n",
              "      <td>10</td>\n",
              "      <td>Good</td>\n",
              "    </tr>\n",
              "    <tr>\n",
              "      <th>3</th>\n",
              "      <td>GP</td>\n",
              "      <td>F</td>\n",
              "      <td>15</td>\n",
              "      <td>U</td>\n",
              "      <td>GT3</td>\n",
              "      <td>T</td>\n",
              "      <td>4</td>\n",
              "      <td>2</td>\n",
              "      <td>health</td>\n",
              "      <td>services</td>\n",
              "      <td>home</td>\n",
              "      <td>mother</td>\n",
              "      <td>1</td>\n",
              "      <td>3</td>\n",
              "      <td>0</td>\n",
              "      <td>no</td>\n",
              "      <td>yes</td>\n",
              "      <td>yes</td>\n",
              "      <td>yes</td>\n",
              "      <td>yes</td>\n",
              "      <td>yes</td>\n",
              "      <td>yes</td>\n",
              "      <td>yes</td>\n",
              "      <td>3</td>\n",
              "      <td>2</td>\n",
              "      <td>2</td>\n",
              "      <td>1</td>\n",
              "      <td>1</td>\n",
              "      <td>5</td>\n",
              "      <td>2</td>\n",
              "      <td>15</td>\n",
              "      <td>14</td>\n",
              "      <td>15</td>\n",
              "      <td>Excelent</td>\n",
              "    </tr>\n",
              "    <tr>\n",
              "      <th>4</th>\n",
              "      <td>GP</td>\n",
              "      <td>F</td>\n",
              "      <td>16</td>\n",
              "      <td>U</td>\n",
              "      <td>GT3</td>\n",
              "      <td>T</td>\n",
              "      <td>3</td>\n",
              "      <td>3</td>\n",
              "      <td>other</td>\n",
              "      <td>other</td>\n",
              "      <td>home</td>\n",
              "      <td>father</td>\n",
              "      <td>1</td>\n",
              "      <td>2</td>\n",
              "      <td>0</td>\n",
              "      <td>no</td>\n",
              "      <td>yes</td>\n",
              "      <td>yes</td>\n",
              "      <td>no</td>\n",
              "      <td>yes</td>\n",
              "      <td>yes</td>\n",
              "      <td>no</td>\n",
              "      <td>no</td>\n",
              "      <td>4</td>\n",
              "      <td>3</td>\n",
              "      <td>2</td>\n",
              "      <td>1</td>\n",
              "      <td>2</td>\n",
              "      <td>5</td>\n",
              "      <td>4</td>\n",
              "      <td>6</td>\n",
              "      <td>10</td>\n",
              "      <td>10</td>\n",
              "      <td>Good</td>\n",
              "    </tr>\n",
              "  </tbody>\n",
              "</table>\n",
              "</div>"
            ],
            "text/plain": [
              "  school sex  age  ... period2_score final_score final_grade\n",
              "0     GP   F   18  ...             6           6        Fail\n",
              "1     GP   F   17  ...             5           6        Fail\n",
              "2     GP   F   15  ...             8          10        Good\n",
              "3     GP   F   15  ...            14          15    Excelent\n",
              "4     GP   F   16  ...            10          10        Good\n",
              "\n",
              "[5 rows x 34 columns]"
            ]
          },
          "metadata": {
            "tags": []
          },
          "execution_count": 12
        }
      ]
    },
    {
      "cell_type": "markdown",
      "metadata": {
        "colab_type": "text",
        "id": "6CyU4511pIvv"
      },
      "source": [
        "**|| The following code shows the columns' names :-**"
      ]
    },
    {
      "cell_type": "code",
      "metadata": {
        "id": "yeOtWwPDpvg7",
        "colab_type": "code",
        "colab": {
          "base_uri": "https://localhost:8080/",
          "height": 153
        },
        "outputId": "ea5478d2-9cd4-46fd-bc42-a64426df7e7f"
      },
      "source": [
        "math.columns.values"
      ],
      "execution_count": null,
      "outputs": [
        {
          "output_type": "execute_result",
          "data": {
            "text/plain": [
              "array(['school', 'sex', 'age', 'address', 'family_size', 'parents_status',\n",
              "       'mother_education', 'father_education', 'mother_job', 'father_job',\n",
              "       'reason', 'guardian', 'commute_time', 'study_time', 'failures',\n",
              "       'school_support', 'family_support', 'paid_classes', 'activities',\n",
              "       'nursery', 'desire_higher_edu', 'internet', 'romantic',\n",
              "       'family_quality', 'free_time', 'go_out', 'weekday_alcohol_usage',\n",
              "       'weekend_alcohol_usage', 'health', 'absences', 'period1_score',\n",
              "       'period2_score', 'final_score', 'final_grade'], dtype=object)"
            ]
          },
          "metadata": {
            "tags": []
          },
          "execution_count": 13
        }
      ]
    },
    {
      "cell_type": "markdown",
      "metadata": {
        "id": "rtzO0aCjp4Sm",
        "colab_type": "text"
      },
      "source": [
        "**|| Now let's check for some missing values :-**"
      ]
    },
    {
      "cell_type": "code",
      "metadata": {
        "id": "Q7p2ao-pp_P5",
        "colab_type": "code",
        "colab": {
          "base_uri": "https://localhost:8080/",
          "height": 612
        },
        "outputId": "010dd24b-a196-4569-b789-c6e521a4441d"
      },
      "source": [
        "math.isnull().any()"
      ],
      "execution_count": null,
      "outputs": [
        {
          "output_type": "execute_result",
          "data": {
            "text/plain": [
              "school                   False\n",
              "sex                      False\n",
              "age                      False\n",
              "address                  False\n",
              "family_size              False\n",
              "parents_status           False\n",
              "mother_education         False\n",
              "father_education         False\n",
              "mother_job               False\n",
              "father_job               False\n",
              "reason                   False\n",
              "guardian                 False\n",
              "commute_time             False\n",
              "study_time               False\n",
              "failures                 False\n",
              "school_support           False\n",
              "family_support           False\n",
              "paid_classes             False\n",
              "activities               False\n",
              "nursery                  False\n",
              "desire_higher_edu        False\n",
              "internet                 False\n",
              "romantic                 False\n",
              "family_quality           False\n",
              "free_time                False\n",
              "go_out                   False\n",
              "weekday_alcohol_usage    False\n",
              "weekend_alcohol_usage    False\n",
              "health                   False\n",
              "absences                 False\n",
              "period1_score            False\n",
              "period2_score            False\n",
              "final_score              False\n",
              "final_grade              False\n",
              "dtype: bool"
            ]
          },
          "metadata": {
            "tags": []
          },
          "execution_count": 14
        }
      ]
    },
    {
      "cell_type": "markdown",
      "metadata": {
        "id": "XeQ31l0eqH3v",
        "colab_type": "text"
      },
      "source": [
        "*-- COOL!! No missing values :)*"
      ]
    },
    {
      "cell_type": "markdown",
      "metadata": {
        "id": "8PNVrPi0lX91",
        "colab_type": "text"
      },
      "source": [
        "## **Data Visualisation**\n",
        "\n",
        "![alt text](https://www.einfochips.com/blog/wp-content/uploads/2019/02/best-business-intelligence-and-data-visualization-tools-for-2019-featured.jpg)"
      ]
    },
    {
      "cell_type": "markdown",
      "metadata": {
        "id": "omkuValbsVjn",
        "colab_type": "text"
      },
      "source": [
        "**|| The following codes showes the relationship between the final grades and number of students using Countplot :-**"
      ]
    },
    {
      "cell_type": "code",
      "metadata": {
        "id": "YnIWHt9clX92",
        "colab_type": "code",
        "colab": {
          "base_uri": "https://localhost:8080/",
          "height": 445
        },
        "outputId": "5abe9f18-9a43-4d3e-fb2e-ed3f4cba8d01"
      },
      "source": [
        "plt.figure(figsize=(8,6))\n",
        "sns.countplot(math.final_grade, order=[\"Fail\",\"Good\",\"Excelent\"], palette='plasma')\n",
        "plt.title('Final Grade - Number of Students',fontsize=20)\n",
        "plt.xlabel('Final Grade', fontsize=30)\n",
        "plt.ylabel('Number of Student', fontsize=30)"
      ],
      "execution_count": null,
      "outputs": [
        {
          "output_type": "execute_result",
          "data": {
            "text/plain": [
              "Text(0, 0.5, 'Number of Student')"
            ]
          },
          "metadata": {
            "tags": []
          },
          "execution_count": 15
        },
        {
          "output_type": "display_data",
          "data": {
            "image/png": "[encoded data removed]",
            "text/plain": [
              "<Figure size 576x432 with 1 Axes>"
            ]
          },
          "metadata": {
            "tags": []
          }
        }
      ]
    },
    {
      "cell_type": "markdown",
      "metadata": {
        "id": "k7egS0AmtmMv",
        "colab_type": "text"
      },
      "source": [
        "**|| The following code is a Correlation between the variables through a Correlation Heatmap, and it showes that the one with the highest correlation is  grades, followed by weekly and dialy alcohol consumption. :-**\n",
        "\n",
        "\n"
      ]
    },
    {
      "cell_type": "code",
      "metadata": {
        "id": "DJ3I9vwxlX92",
        "colab_type": "code",
        "colab": {
          "base_uri": "https://localhost:8080/",
          "height": 1000
        },
        "outputId": "dddb230d-50c0-48b1-c107-1dc56812fbed"
      },
      "source": [
        "corr = math.corr()\n",
        "plt.figure(figsize=(20,20))\n",
        "sns.heatmap(corr, annot=True, cmap=\"plasma_r\")\n",
        "plt.title('Correlation Heatmap', fontsize=30)"
      ],
      "execution_count": null,
      "outputs": [
        {
          "output_type": "execute_result",
          "data": {
            "text/plain": [
              "Text(0.5, 1, 'Correlation Heatmap')"
            ]
          },
          "metadata": {
            "tags": []
          },
          "execution_count": 16
        },
        {
          "output_type": "display_data",
          "data": {
            "image/png": "[encoded data removed]",
            "text/plain": [
              "<Figure size 1440x1440 with 2 Axes>"
            ]
          },
          "metadata": {
            "tags": []
          }
        }
      ]
    },
    {
      "cell_type": "markdown",
      "metadata": {
        "id": "ouAxqyDCwBnG",
        "colab_type": "text"
      },
      "source": [
        "**|| The following code shows the correlation between the variables and the final score :-**"
      ]
    },
    {
      "cell_type": "code",
      "metadata": {
        "id": "7nNPbKMcwN3D",
        "colab_type": "code",
        "colab": {
          "base_uri": "https://localhost:8080/",
          "height": 306
        },
        "outputId": "b1348cd2-3b69-4b36-abef-9ce1c8b1cd6a"
      },
      "source": [
        "new_corr = math.corr()\n",
        "new_corr['final_score'].sort_values(ascending=False)"
      ],
      "execution_count": null,
      "outputs": [
        {
          "output_type": "execute_result",
          "data": {
            "text/plain": [
              "final_score              1.000000\n",
              "period2_score            0.904868\n",
              "period1_score            0.801468\n",
              "mother_education         0.217147\n",
              "father_education         0.152457\n",
              "study_time               0.097820\n",
              "family_quality           0.051363\n",
              "absences                 0.034247\n",
              "free_time                0.011307\n",
              "weekend_alcohol_usage   -0.051939\n",
              "weekday_alcohol_usage   -0.054660\n",
              "health                  -0.061335\n",
              "commute_time            -0.117142\n",
              "go_out                  -0.132791\n",
              "age                     -0.161579\n",
              "failures                -0.360415\n",
              "Name: final_score, dtype: float64"
            ]
          },
          "metadata": {
            "tags": []
          },
          "execution_count": 17
        }
      ]
    },
    {
      "cell_type": "markdown",
      "metadata": {
        "id": "PPEpPhFCwf82",
        "colab_type": "text"
      },
      "source": [
        "*-- As we see, the final score tends to go up as period2 score and  period1 score go up. final score has a tendency to fall with the Alcohol Consumption.*"
      ]
    },
    {
      "cell_type": "markdown",
      "metadata": {
        "id": "Y7aWlsKmxNsO",
        "colab_type": "text"
      },
      "source": [
        "**|| The following code will describe how the final grade as affected by romantic status, and we will see how students in a romantic relationship vs. those not in a relationship perform :-**"
      ]
    },
    {
      "cell_type": "code",
      "metadata": {
        "id": "34ZN6Zlexkni",
        "colab_type": "code",
        "colab": {}
      },
      "source": [
        "perc = (lambda col: col/col.sum())\n",
        "index = ['Fail','Good','Excelent']\n",
        "romance_tab1 = pd.crosstab(index=math.final_grade, columns=math.romantic)\n",
        "romance_tab = (romance_tab1)\n",
        "romance_perc = romance_tab.apply(perc).reindex(index)"
      ],
      "execution_count": null,
      "outputs": []
    },
    {
      "cell_type": "code",
      "metadata": {
        "id": "SjJgiLIOxqXz",
        "colab_type": "code",
        "colab": {
          "base_uri": "https://localhost:8080/",
          "height": 599
        },
        "outputId": "fcebb1a6-024c-417e-ee89-22d42d4447c3"
      },
      "source": [
        "plt.figure()\n",
        "romance_tab.plot.bar(colormap=\"viridis\", fontsize=16, figsize=(8,8))\n",
        "plt.title('Final Grade By Romantic Status', fontsize=20)\n",
        "plt.ylabel('Percentage of Logarithm Student Counts ', fontsize=16)\n",
        "plt.xlabel('Final Grade', fontsize=16)\n",
        "plt.show()"
      ],
      "execution_count": null,
      "outputs": [
        {
          "output_type": "display_data",
          "data": {
            "text/plain": [
              "<Figure size 432x288 with 0 Axes>"
            ]
          },
          "metadata": {
            "tags": []
          }
        },
        {
          "output_type": "display_data",
          "data": {
            "image/png": "[encoded data removed]",
            "text/plain": [
              "<Figure size 576x576 with 1 Axes>"
            ]
          },
          "metadata": {
            "tags": []
          }
        }
      ]
    },
    {
      "cell_type": "markdown",
      "metadata": {
        "id": "X8h_zBFZjJz7",
        "colab_type": "text"
      },
      "source": [
        "# Hypothesis Test"
      ]
    },
    {
      "cell_type": "code",
      "metadata": {
        "id": "-IWLRGjojGkn",
        "colab_type": "code",
        "colab": {
          "base_uri": "https://localhost:8080/",
          "height": 34
        },
        "outputId": "39337f80-75b3-4f8a-d6b7-d53e39073399"
      },
      "source": [
        "import statsmodels.api as sm\n",
        "romance_table = sm.stats.Table(romance_tab1)\n",
        "romance_rslt = romance_table.test_nominal_association()\n",
        "romance_rslt.pvalue"
      ],
      "execution_count": null,
      "outputs": [
        {
          "output_type": "execute_result",
          "data": {
            "text/plain": [
              "0.07582806500867012"
            ]
          },
          "metadata": {
            "tags": []
          },
          "execution_count": 20
        }
      ]
    },
    {
      "cell_type": "markdown",
      "metadata": {
        "id": "pkMUs_p6yJai",
        "colab_type": "text"
      },
      "source": [
        "**|| The following code shows the Final Grade By Alcohol Consumption, and we will see how alcohol consumption influences students' final grade :-**"
      ]
    },
    {
      "cell_type": "code",
      "metadata": {
        "id": "pDnGPkzCzF3s",
        "colab_type": "code",
        "colab": {
          "base_uri": "https://localhost:8080/",
          "height": 297
        },
        "outputId": "e9684ea5-70cb-4fc6-b9ef-8ff0917dd5da"
      },
      "source": [
        "sns.boxplot(x=\"weekday_alcohol_usage\", y=\"final_score\", data=math, palette='plasma' )"
      ],
      "execution_count": null,
      "outputs": [
        {
          "output_type": "execute_result",
          "data": {
            "text/plain": [
              "<matplotlib.axes._subplots.AxesSubplot at 0x7f9ae15598d0>"
            ]
          },
          "metadata": {
            "tags": []
          },
          "execution_count": 21
        },
        {
          "output_type": "display_data",
          "data": {
            "image/png": "[encoded data removed]",
            "text/plain": [
              "<Figure size 432x288 with 1 Axes>"
            ]
          },
          "metadata": {
            "tags": []
          }
        }
      ]
    },
    {
      "cell_type": "markdown",
      "metadata": {
        "id": "ft0FqnJ9zNf7",
        "colab_type": "text"
      },
      "source": [
        "*-- we can see that majority of the students with the highest scores have the leaset alcohol consumption.*"
      ]
    },
    {
      "cell_type": "markdown",
      "metadata": {
        "id": "yzMkwre73RPj",
        "colab_type": "text"
      },
      "source": [
        "**|| The following code is to show the final grade by frequency Of going out, and we will see how frequency of going out with friends influence students' final performance :-**\n",
        "\n",
        "*-- going out with friends (numeric: from 1 - very low to 5 - very high)**"
      ]
    },
    {
      "cell_type": "code",
      "metadata": {
        "id": "0wNLdmy93rXS",
        "colab_type": "code",
        "colab": {
          "base_uri": "https://localhost:8080/",
          "height": 649
        },
        "outputId": "3ad64126-bcec-405a-9531-b556cb62f45b"
      },
      "source": [
        "plt.figure(figsize=(6,10))\n",
        "sns.boxplot(x='go_out', y='final_score', data=math, palette='plasma')\n",
        "plt.title('Final Grade By Frequency of Going Out', fontsize=20)\n",
        "plt.ylabel('Final Score', fontsize=16)\n",
        "plt.xlabel('Frequency of Going Out', fontsize=16)"
      ],
      "execution_count": null,
      "outputs": [
        {
          "output_type": "execute_result",
          "data": {
            "text/plain": [
              "Text(0.5, 0, 'Frequency of Going Out')"
            ]
          },
          "metadata": {
            "tags": []
          },
          "execution_count": 22
        },
        {
          "output_type": "display_data",
          "data": {
            "image/png": "[encoded data removed]",
            "text/plain": [
              "<Figure size 432x720 with 1 Axes>"
            ]
          },
          "metadata": {
            "tags": []
          }
        }
      ]
    },
    {
      "cell_type": "code",
      "metadata": {
        "id": "PL-SPNDq4DLy",
        "colab_type": "code",
        "colab": {
          "base_uri": "https://localhost:8080/",
          "height": 490
        },
        "outputId": "05eb9956-1a16-48a9-f92b-851b31e6080a"
      },
      "source": [
        "out_tab = pd.crosstab(index=math.final_grade, columns=math.go_out)\n",
        "out_perc = out_tab.apply(perc).reindex(index)\n",
        "\n",
        "out_perc.plot.bar(colormap=\"plasma\", fontsize=16, figsize=(14,6))\n",
        "plt.title('Final Grade By Frequency of Going Out', fontsize=20)\n",
        "plt.ylabel('Percentage of Student', fontsize=16)\n",
        "plt.xlabel('Final Grade', fontsize=16)"
      ],
      "execution_count": null,
      "outputs": [
        {
          "output_type": "execute_result",
          "data": {
            "text/plain": [
              "Text(0.5, 0, 'Final Grade')"
            ]
          },
          "metadata": {
            "tags": []
          },
          "execution_count": 23
        },
        {
          "output_type": "display_data",
          "data": {
            "image/png": "[encoded data removed]",
            "text/plain": [
              "<Figure size 1008x432 with 1 Axes>"
            ]
          },
          "metadata": {
            "tags": []
          }
        }
      ]
    },
    {
      "cell_type": "markdown",
      "metadata": {
        "id": "9ox5NjUi4KCT",
        "colab_type": "text"
      },
      "source": [
        "#Hyphothesis Testing \n",
        "\n"
      ]
    },
    {
      "cell_type": "code",
      "metadata": {
        "id": "s7KWfmvS4W3m",
        "colab_type": "code",
        "colab": {
          "base_uri": "https://localhost:8080/",
          "height": 34
        },
        "outputId": "fdfed7c7-c5fe-4e17-aa3c-2ce635a797f1"
      },
      "source": [
        "out_table = sm.stats.Table(out_tab)\n",
        "out_rslt = out_table.test_nominal_association()\n",
        "out_rslt.pvalue"
      ],
      "execution_count": null,
      "outputs": [
        {
          "output_type": "execute_result",
          "data": {
            "text/plain": [
              "0.02011679893175289"
            ]
          },
          "metadata": {
            "tags": []
          },
          "execution_count": 24
        }
      ]
    },
    {
      "cell_type": "markdown",
      "metadata": {
        "id": "5VWJSiIj4jqC",
        "colab_type": "text"
      },
      "source": [
        "**|| The following code shows final grade by desire to go to college, and we will see how desire to go to college influence student final performance :-**\n",
        "\n"
      ]
    },
    {
      "cell_type": "code",
      "metadata": {
        "id": "vyN7LY5u5Xno",
        "colab_type": "code",
        "colab": {}
      },
      "source": [
        "higher_tab = pd.crosstab(index=math.final_grade, columns=math.desire_higher_edu)\n",
        "higher_perc = higher_tab.apply(perc).reindex(index)"
      ],
      "execution_count": null,
      "outputs": []
    },
    {
      "cell_type": "code",
      "metadata": {
        "id": "K8RiVAk25YIf",
        "colab_type": "code",
        "colab": {
          "base_uri": "https://localhost:8080/",
          "height": 490
        },
        "outputId": "35e824d4-1d68-4d64-f8c9-543141077819"
      },
      "source": [
        "higher_perc.plot.bar(colormap=\"viridis\", figsize=(14,6), fontsize=16)\n",
        "plt.title('Final Grade By Desire to Receive Higher Education', fontsize=20)\n",
        "plt.xlabel('Final Grade', fontsize=16)\n",
        "plt.ylabel('Percentage of Student', fontsize=16)"
      ],
      "execution_count": null,
      "outputs": [
        {
          "output_type": "execute_result",
          "data": {
            "text/plain": [
              "Text(0, 0.5, 'Percentage of Student')"
            ]
          },
          "metadata": {
            "tags": []
          },
          "execution_count": 26
        },
        {
          "output_type": "display_data",
          "data": {
            "image/png": "[encoded data removed]",
            "text/plain": [
              "<Figure size 1008x432 with 1 Axes>"
            ]
          },
          "metadata": {
            "tags": []
          }
        }
      ]
    },
    {
      "cell_type": "markdown",
      "metadata": {
        "id": "Zn5eo2d05kzR",
        "colab_type": "text"
      },
      "source": [
        "# Hypothesis Test"
      ]
    },
    {
      "cell_type": "code",
      "metadata": {
        "id": "HVDKyAcN5oCB",
        "colab_type": "code",
        "colab": {
          "base_uri": "https://localhost:8080/",
          "height": 34
        },
        "outputId": "a8ac07fb-8c30-4d2d-9e70-da4a38b75567"
      },
      "source": [
        "higher_table = sm.stats.Table(higher_tab)\n",
        "higher_rslt = higher_table.test_nominal_association()\n",
        "higher_rslt.pvalue"
      ],
      "execution_count": null,
      "outputs": [
        {
          "output_type": "execute_result",
          "data": {
            "text/plain": [
              "0.006432095965317797"
            ]
          },
          "metadata": {
            "tags": []
          },
          "execution_count": 27
        }
      ]
    },
    {
      "cell_type": "markdown",
      "metadata": {
        "id": "oBVSU9bz5zFi",
        "colab_type": "text"
      },
      "source": [
        "**|| The following code will show the final grade by the students' living area :-**\n",
        "\n",
        "*-- living area: urban vs. rural.*"
      ]
    },
    {
      "cell_type": "code",
      "metadata": {
        "id": "CB-U84Hm6V1k",
        "colab_type": "code",
        "colab": {}
      },
      "source": [
        "math.address = math.address.map({'U':'Urban', 'R':'Rural'})"
      ],
      "execution_count": null,
      "outputs": []
    },
    {
      "cell_type": "code",
      "metadata": {
        "id": "Ed1JoWB36WNS",
        "colab_type": "code",
        "colab": {
          "base_uri": "https://localhost:8080/",
          "height": 414
        },
        "outputId": "3ed63abf-338f-44fa-dfd1-4f6ea3d3dac1"
      },
      "source": [
        "plt.figure(figsize=(6,6))\n",
        "sns.countplot(math.address, palette='rocket')\n",
        "plt.title('Urban and Rural Students Count', fontsize=20)\n",
        "plt.xlabel('Living Area', fontsize=16)\n",
        "plt.ylabel('Number Of Students', fontsize=16)\n",
        "plt.show()"
      ],
      "execution_count": null,
      "outputs": [
        {
          "output_type": "display_data",
          "data": {
            "image/png": "[encoded data removed]",
            "text/plain": [
              "<Figure size 432x432 with 1 Axes>"
            ]
          },
          "metadata": {
            "tags": []
          }
        }
      ]
    },
    {
      "cell_type": "code",
      "metadata": {
        "id": "Zz6vVqL16ddq",
        "colab_type": "code",
        "colab": {}
      },
      "source": [
        "ad_tab1 = pd.crosstab(index=math.final_grade, columns=math.address)\n",
        "ad_tab = np.log(ad_tab1)\n",
        "ad_perc = ad_tab.apply(perc).reindex(index)"
      ],
      "execution_count": null,
      "outputs": []
    },
    {
      "cell_type": "code",
      "metadata": {
        "id": "_4LeXdgG6d05",
        "colab_type": "code",
        "colab": {
          "base_uri": "https://localhost:8080/",
          "height": 490
        },
        "outputId": "845fe826-8eb0-4b59-b0d9-0c906d3c4934"
      },
      "source": [
        "ad_perc.plot.bar(colormap=\"viridis\", fontsize=16, figsize=(8,6))\n",
        "plt.title('Final Grade By Living Area', fontsize=20)\n",
        "plt.ylabel('Percentage of Logarithm Student#', fontsize=16)\n",
        "plt.xlabel('Final Grade', fontsize=16)"
      ],
      "execution_count": null,
      "outputs": [
        {
          "output_type": "execute_result",
          "data": {
            "text/plain": [
              "Text(0.5, 0, 'Final Grade')"
            ]
          },
          "metadata": {
            "tags": []
          },
          "execution_count": 31
        },
        {
          "output_type": "display_data",
          "data": {
            "image/png": "[encoded data removed]",
            "text/plain": [
              "<Figure size 576x432 with 1 Axes>"
            ]
          },
          "metadata": {
            "tags": []
          }
        }
      ]
    },
    {
      "cell_type": "markdown",
      "metadata": {
        "id": "ugU7E_IS6sPO",
        "colab_type": "text"
      },
      "source": [
        "# Hyphothesis Testing \n",
        "\n",
        "*chi-square test result !*"
      ]
    },
    {
      "cell_type": "code",
      "metadata": {
        "id": "mJQ3lPeR62k1",
        "colab_type": "code",
        "colab": {
          "base_uri": "https://localhost:8080/",
          "height": 34
        },
        "outputId": "e1469781-767f-441e-a9f9-c7595ae95f34"
      },
      "source": [
        "ad_table = sm.stats.Table(ad_tab1)\n",
        "ad_rslt = ad_table.test_nominal_association()\n",
        "ad_rslt.pvalue"
      ],
      "execution_count": null,
      "outputs": [
        {
          "output_type": "execute_result",
          "data": {
            "text/plain": [
              "0.13691116387177005"
            ]
          },
          "metadata": {
            "tags": []
          },
          "execution_count": 32
        }
      ]
    },
    {
      "cell_type": "markdown",
      "metadata": {
        "id": "SR-Z5zqZlX93",
        "colab_type": "text"
      },
      "source": [
        "## **Classification**\n",
        "\n",
        "![alt text](https://cdn3.iconfinder.com/data/icons/puzzles-and-directions/512/Arrows_seperating_arrows-01-512.png)\n"
      ]
    },
    {
      "cell_type": "markdown",
      "metadata": {
        "id": "EHBEMC238bFh",
        "colab_type": "text"
      },
      "source": [
        "**|| Now we will prepare the dataset for modelling :-**"
      ]
    },
    {
      "cell_type": "markdown",
      "metadata": {
        "id": "zEVDxett82DY",
        "colab_type": "text"
      },
      "source": [
        "**We're creating a dataframe for classification :-**"
      ]
    },
    {
      "cell_type": "code",
      "metadata": {
        "id": "bXtEw5BMlX94",
        "colab_type": "code",
        "colab": {}
      },
      "source": [
        "math2 = math.copy()\n",
        "math2 = math2.drop([ 'final_score'], axis=1)"
      ],
      "execution_count": null,
      "outputs": []
    },
    {
      "cell_type": "markdown",
      "metadata": {
        "id": "JeC9E0HK-IFX",
        "colab_type": "text"
      },
      "source": [
        "**|| Now we will encode the final grade :-**"
      ]
    },
    {
      "cell_type": "code",
      "metadata": {
        "id": "auRuki7T-fky",
        "colab_type": "code",
        "colab": {}
      },
      "source": [
        "le = preprocessing.LabelEncoder()\n",
        "math2.final_grade = le.fit_transform(math2.final_grade)"
      ],
      "execution_count": null,
      "outputs": []
    },
    {
      "cell_type": "markdown",
      "metadata": {
        "id": "MJrGwFLx-7qL",
        "colab_type": "text"
      },
      "source": [
        "*-- the following code lists the classes of final garde column befor encoding :*"
      ]
    },
    {
      "cell_type": "code",
      "metadata": {
        "id": "KpZw__ne-jHt",
        "colab_type": "code",
        "colab": {
          "base_uri": "https://localhost:8080/",
          "height": 34
        },
        "outputId": "c61946e8-cbed-4e9a-edb2-0a3482935f6b"
      },
      "source": [
        "le.classes_"
      ],
      "execution_count": null,
      "outputs": [
        {
          "output_type": "execute_result",
          "data": {
            "text/plain": [
              "array(['Excelent', 'Fail', 'Good'], dtype=object)"
            ]
          },
          "metadata": {
            "tags": []
          },
          "execution_count": 35
        }
      ]
    },
    {
      "cell_type": "markdown",
      "metadata": {
        "id": "_ke3Fw5I_TJ0",
        "colab_type": "text"
      },
      "source": [
        "*-- The following code lists the encoded classes :*"
      ]
    },
    {
      "cell_type": "code",
      "metadata": {
        "id": "pv5bvmJS-pqb",
        "colab_type": "code",
        "colab": {
          "base_uri": "https://localhost:8080/",
          "height": 34
        },
        "outputId": "623973fc-847b-4d2c-c70b-765ff8942ebf"
      },
      "source": [
        "math2['final_grade'].unique()"
      ],
      "execution_count": null,
      "outputs": [
        {
          "output_type": "execute_result",
          "data": {
            "text/plain": [
              "array([1, 2, 0])"
            ]
          },
          "metadata": {
            "tags": []
          },
          "execution_count": 36
        }
      ]
    },
    {
      "cell_type": "markdown",
      "metadata": {
        "id": "v2A0dxul_j4K",
        "colab_type": "text"
      },
      "source": [
        "**|| We will start preparing the dataset to be classified by encoding all the catagorical variables :-**"
      ]
    },
    {
      "cell_type": "code",
      "metadata": {
        "id": "NXNXOe6EBjzr",
        "colab_type": "code",
        "colab": {}
      },
      "source": [
        "enc = LabelEncoder()\n",
        "math2['father_job_enc']=enc.fit_transform(math2['father_job'])\n",
        "math2['mother_job_enc']=enc.fit_transform(math2['mother_job'])\n",
        "math2['parents_status_enc']=enc.fit_transform(math2['parents_status'])\n",
        "math2['family_size_enc']=enc.fit_transform(math2['family_size'])\n",
        "math2['address_enc']=enc.fit_transform(math2['address'])\n",
        "math2['school_enc']=enc.fit_transform(math2['school'])\n",
        "math2['sex_enc']=enc.fit_transform(math2['sex'])\n",
        "math2['reason_enc']=enc.fit_transform(math2['reason'])\n",
        "math2['guardian_enc']=enc.fit_transform(math2['guardian'])\n",
        "math2['school_support_enc']=enc.fit_transform(math2['school_support'])\n",
        "math2['family_support_enc']=enc.fit_transform(math2['family_support'])\n",
        "math2['paid_classes_enc']=enc.fit_transform(math2['paid_classes'])\n",
        "math2['activities_enc']=enc.fit_transform(math2['activities'])\n",
        "math2['nursery_enc']=enc.fit_transform(math2['nursery'])\n",
        "math2['desire_higher_edu_enc']=enc.fit_transform(math2['desire_higher_edu'])\n",
        "math2['internet_enc']=enc.fit_transform(math2['internet'])\n",
        "math2['romantic_enc']=enc.fit_transform(math2['romantic'])"
      ],
      "execution_count": null,
      "outputs": []
    },
    {
      "cell_type": "markdown",
      "metadata": {
        "id": "zUwdhMVRDYyG",
        "colab_type": "text"
      },
      "source": [
        "**|| Drop all the unencoded columns :-**"
      ]
    },
    {
      "cell_type": "code",
      "metadata": {
        "id": "ekgJbAdJDkx2",
        "colab_type": "code",
        "colab": {
          "base_uri": "https://localhost:8080/",
          "height": 439
        },
        "outputId": "e90e0404-c6a5-4c58-977a-472522bd524f"
      },
      "source": [
        "math2.drop(['school', 'address','sex','family_size', 'parents_status','mother_job','reason','father_job','guardian','school_support','family_support','paid_classes','activities','nursery','desire_higher_edu','internet','romantic'], axis=1)"
      ],
      "execution_count": null,
      "outputs": [
        {
          "output_type": "execute_result",
          "data": {
            "text/html": [
              "<div>\n",
              "<style scoped>\n",
              "    .dataframe tbody tr th:only-of-type {\n",
              "        vertical-align: middle;\n",
              "    }\n",
              "\n",
              "    .dataframe tbody tr th {\n",
              "        vertical-align: top;\n",
              "    }\n",
              "\n",
              "    .dataframe thead th {\n",
              "        text-align: right;\n",
              "    }\n",
              "</style>\n",
              "<table border=\"1\" class=\"dataframe\">\n",
              "  <thead>\n",
              "    <tr style=\"text-align: right;\">\n",
              "      <th></th>\n",
              "      <th>age</th>\n",
              "      <th>mother_education</th>\n",
              "      <th>father_education</th>\n",
              "      <th>commute_time</th>\n",
              "      <th>study_time</th>\n",
              "      <th>failures</th>\n",
              "      <th>family_quality</th>\n",
              "      <th>free_time</th>\n",
              "      <th>go_out</th>\n",
              "      <th>weekday_alcohol_usage</th>\n",
              "      <th>weekend_alcohol_usage</th>\n",
              "      <th>health</th>\n",
              "      <th>absences</th>\n",
              "      <th>period1_score</th>\n",
              "      <th>period2_score</th>\n",
              "      <th>final_grade</th>\n",
              "      <th>father_job_enc</th>\n",
              "      <th>mother_job_enc</th>\n",
              "      <th>parents_status_enc</th>\n",
              "      <th>family_size_enc</th>\n",
              "      <th>address_enc</th>\n",
              "      <th>school_enc</th>\n",
              "      <th>sex_enc</th>\n",
              "      <th>reason_enc</th>\n",
              "      <th>guardian_enc</th>\n",
              "      <th>school_support_enc</th>\n",
              "      <th>family_support_enc</th>\n",
              "      <th>paid_classes_enc</th>\n",
              "      <th>activities_enc</th>\n",
              "      <th>nursery_enc</th>\n",
              "      <th>desire_higher_edu_enc</th>\n",
              "      <th>internet_enc</th>\n",
              "      <th>romantic_enc</th>\n",
              "    </tr>\n",
              "  </thead>\n",
              "  <tbody>\n",
              "    <tr>\n",
              "      <th>0</th>\n",
              "      <td>18</td>\n",
              "      <td>4</td>\n",
              "      <td>4</td>\n",
              "      <td>2</td>\n",
              "      <td>2</td>\n",
              "      <td>0</td>\n",
              "      <td>4</td>\n",
              "      <td>3</td>\n",
              "      <td>4</td>\n",
              "      <td>1</td>\n",
              "      <td>1</td>\n",
              "      <td>3</td>\n",
              "      <td>6</td>\n",
              "      <td>5</td>\n",
              "      <td>6</td>\n",
              "      <td>1</td>\n",
              "      <td>4</td>\n",
              "      <td>0</td>\n",
              "      <td>0</td>\n",
              "      <td>0</td>\n",
              "      <td>1</td>\n",
              "      <td>0</td>\n",
              "      <td>0</td>\n",
              "      <td>0</td>\n",
              "      <td>1</td>\n",
              "      <td>1</td>\n",
              "      <td>0</td>\n",
              "      <td>0</td>\n",
              "      <td>0</td>\n",
              "      <td>1</td>\n",
              "      <td>1</td>\n",
              "      <td>0</td>\n",
              "      <td>0</td>\n",
              "    </tr>\n",
              "    <tr>\n",
              "      <th>1</th>\n",
              "      <td>17</td>\n",
              "      <td>1</td>\n",
              "      <td>1</td>\n",
              "      <td>1</td>\n",
              "      <td>2</td>\n",
              "      <td>0</td>\n",
              "      <td>5</td>\n",
              "      <td>3</td>\n",
              "      <td>3</td>\n",
              "      <td>1</td>\n",
              "      <td>1</td>\n",
              "      <td>3</td>\n",
              "      <td>4</td>\n",
              "      <td>5</td>\n",
              "      <td>5</td>\n",
              "      <td>1</td>\n",
              "      <td>2</td>\n",
              "      <td>0</td>\n",
              "      <td>1</td>\n",
              "      <td>0</td>\n",
              "      <td>1</td>\n",
              "      <td>0</td>\n",
              "      <td>0</td>\n",
              "      <td>0</td>\n",
              "      <td>0</td>\n",
              "      <td>0</td>\n",
              "      <td>1</td>\n",
              "      <td>0</td>\n",
              "      <td>0</td>\n",
              "      <td>0</td>\n",
              "      <td>1</td>\n",
              "      <td>1</td>\n",
              "      <td>0</td>\n",
              "    </tr>\n",
              "    <tr>\n",
              "      <th>2</th>\n",
              "      <td>15</td>\n",
              "      <td>1</td>\n",
              "      <td>1</td>\n",
              "      <td>1</td>\n",
              "      <td>2</td>\n",
              "      <td>3</td>\n",
              "      <td>4</td>\n",
              "      <td>3</td>\n",
              "      <td>2</td>\n",
              "      <td>2</td>\n",
              "      <td>3</td>\n",
              "      <td>3</td>\n",
              "      <td>10</td>\n",
              "      <td>7</td>\n",
              "      <td>8</td>\n",
              "      <td>2</td>\n",
              "      <td>2</td>\n",
              "      <td>0</td>\n",
              "      <td>1</td>\n",
              "      <td>1</td>\n",
              "      <td>1</td>\n",
              "      <td>0</td>\n",
              "      <td>0</td>\n",
              "      <td>2</td>\n",
              "      <td>1</td>\n",
              "      <td>1</td>\n",
              "      <td>0</td>\n",
              "      <td>1</td>\n",
              "      <td>0</td>\n",
              "      <td>1</td>\n",
              "      <td>1</td>\n",
              "      <td>1</td>\n",
              "      <td>0</td>\n",
              "    </tr>\n",
              "    <tr>\n",
              "      <th>3</th>\n",
              "      <td>15</td>\n",
              "      <td>4</td>\n",
              "      <td>2</td>\n",
              "      <td>1</td>\n",
              "      <td>3</td>\n",
              "      <td>0</td>\n",
              "      <td>3</td>\n",
              "      <td>2</td>\n",
              "      <td>2</td>\n",
              "      <td>1</td>\n",
              "      <td>1</td>\n",
              "      <td>5</td>\n",
              "      <td>2</td>\n",
              "      <td>15</td>\n",
              "      <td>14</td>\n",
              "      <td>0</td>\n",
              "      <td>3</td>\n",
              "      <td>1</td>\n",
              "      <td>1</td>\n",
              "      <td>0</td>\n",
              "      <td>1</td>\n",
              "      <td>0</td>\n",
              "      <td>0</td>\n",
              "      <td>1</td>\n",
              "      <td>1</td>\n",
              "      <td>0</td>\n",
              "      <td>1</td>\n",
              "      <td>1</td>\n",
              "      <td>1</td>\n",
              "      <td>1</td>\n",
              "      <td>1</td>\n",
              "      <td>1</td>\n",
              "      <td>1</td>\n",
              "    </tr>\n",
              "    <tr>\n",
              "      <th>4</th>\n",
              "      <td>16</td>\n",
              "      <td>3</td>\n",
              "      <td>3</td>\n",
              "      <td>1</td>\n",
              "      <td>2</td>\n",
              "      <td>0</td>\n",
              "      <td>4</td>\n",
              "      <td>3</td>\n",
              "      <td>2</td>\n",
              "      <td>1</td>\n",
              "      <td>2</td>\n",
              "      <td>5</td>\n",
              "      <td>4</td>\n",
              "      <td>6</td>\n",
              "      <td>10</td>\n",
              "      <td>2</td>\n",
              "      <td>2</td>\n",
              "      <td>2</td>\n",
              "      <td>1</td>\n",
              "      <td>0</td>\n",
              "      <td>1</td>\n",
              "      <td>0</td>\n",
              "      <td>0</td>\n",
              "      <td>1</td>\n",
              "      <td>0</td>\n",
              "      <td>0</td>\n",
              "      <td>1</td>\n",
              "      <td>1</td>\n",
              "      <td>0</td>\n",
              "      <td>1</td>\n",
              "      <td>1</td>\n",
              "      <td>0</td>\n",
              "      <td>0</td>\n",
              "    </tr>\n",
              "    <tr>\n",
              "      <th>...</th>\n",
              "      <td>...</td>\n",
              "      <td>...</td>\n",
              "      <td>...</td>\n",
              "      <td>...</td>\n",
              "      <td>...</td>\n",
              "      <td>...</td>\n",
              "      <td>...</td>\n",
              "      <td>...</td>\n",
              "      <td>...</td>\n",
              "      <td>...</td>\n",
              "      <td>...</td>\n",
              "      <td>...</td>\n",
              "      <td>...</td>\n",
              "      <td>...</td>\n",
              "      <td>...</td>\n",
              "      <td>...</td>\n",
              "      <td>...</td>\n",
              "      <td>...</td>\n",
              "      <td>...</td>\n",
              "      <td>...</td>\n",
              "      <td>...</td>\n",
              "      <td>...</td>\n",
              "      <td>...</td>\n",
              "      <td>...</td>\n",
              "      <td>...</td>\n",
              "      <td>...</td>\n",
              "      <td>...</td>\n",
              "      <td>...</td>\n",
              "      <td>...</td>\n",
              "      <td>...</td>\n",
              "      <td>...</td>\n",
              "      <td>...</td>\n",
              "      <td>...</td>\n",
              "    </tr>\n",
              "    <tr>\n",
              "      <th>390</th>\n",
              "      <td>20</td>\n",
              "      <td>2</td>\n",
              "      <td>2</td>\n",
              "      <td>1</td>\n",
              "      <td>2</td>\n",
              "      <td>2</td>\n",
              "      <td>5</td>\n",
              "      <td>5</td>\n",
              "      <td>4</td>\n",
              "      <td>4</td>\n",
              "      <td>5</td>\n",
              "      <td>4</td>\n",
              "      <td>11</td>\n",
              "      <td>9</td>\n",
              "      <td>9</td>\n",
              "      <td>1</td>\n",
              "      <td>3</td>\n",
              "      <td>3</td>\n",
              "      <td>0</td>\n",
              "      <td>1</td>\n",
              "      <td>1</td>\n",
              "      <td>1</td>\n",
              "      <td>1</td>\n",
              "      <td>0</td>\n",
              "      <td>2</td>\n",
              "      <td>0</td>\n",
              "      <td>1</td>\n",
              "      <td>1</td>\n",
              "      <td>0</td>\n",
              "      <td>1</td>\n",
              "      <td>1</td>\n",
              "      <td>0</td>\n",
              "      <td>0</td>\n",
              "    </tr>\n",
              "    <tr>\n",
              "      <th>391</th>\n",
              "      <td>17</td>\n",
              "      <td>3</td>\n",
              "      <td>1</td>\n",
              "      <td>2</td>\n",
              "      <td>1</td>\n",
              "      <td>0</td>\n",
              "      <td>2</td>\n",
              "      <td>4</td>\n",
              "      <td>5</td>\n",
              "      <td>3</td>\n",
              "      <td>4</td>\n",
              "      <td>2</td>\n",
              "      <td>3</td>\n",
              "      <td>14</td>\n",
              "      <td>16</td>\n",
              "      <td>0</td>\n",
              "      <td>3</td>\n",
              "      <td>3</td>\n",
              "      <td>1</td>\n",
              "      <td>1</td>\n",
              "      <td>1</td>\n",
              "      <td>1</td>\n",
              "      <td>1</td>\n",
              "      <td>0</td>\n",
              "      <td>1</td>\n",
              "      <td>0</td>\n",
              "      <td>0</td>\n",
              "      <td>0</td>\n",
              "      <td>0</td>\n",
              "      <td>0</td>\n",
              "      <td>1</td>\n",
              "      <td>1</td>\n",
              "      <td>0</td>\n",
              "    </tr>\n",
              "    <tr>\n",
              "      <th>392</th>\n",
              "      <td>21</td>\n",
              "      <td>1</td>\n",
              "      <td>1</td>\n",
              "      <td>1</td>\n",
              "      <td>1</td>\n",
              "      <td>3</td>\n",
              "      <td>5</td>\n",
              "      <td>5</td>\n",
              "      <td>3</td>\n",
              "      <td>3</td>\n",
              "      <td>3</td>\n",
              "      <td>3</td>\n",
              "      <td>3</td>\n",
              "      <td>10</td>\n",
              "      <td>8</td>\n",
              "      <td>1</td>\n",
              "      <td>2</td>\n",
              "      <td>2</td>\n",
              "      <td>1</td>\n",
              "      <td>0</td>\n",
              "      <td>0</td>\n",
              "      <td>1</td>\n",
              "      <td>1</td>\n",
              "      <td>0</td>\n",
              "      <td>2</td>\n",
              "      <td>0</td>\n",
              "      <td>0</td>\n",
              "      <td>0</td>\n",
              "      <td>0</td>\n",
              "      <td>0</td>\n",
              "      <td>1</td>\n",
              "      <td>0</td>\n",
              "      <td>0</td>\n",
              "    </tr>\n",
              "    <tr>\n",
              "      <th>393</th>\n",
              "      <td>18</td>\n",
              "      <td>3</td>\n",
              "      <td>2</td>\n",
              "      <td>3</td>\n",
              "      <td>1</td>\n",
              "      <td>0</td>\n",
              "      <td>4</td>\n",
              "      <td>4</td>\n",
              "      <td>1</td>\n",
              "      <td>3</td>\n",
              "      <td>4</td>\n",
              "      <td>5</td>\n",
              "      <td>0</td>\n",
              "      <td>11</td>\n",
              "      <td>12</td>\n",
              "      <td>2</td>\n",
              "      <td>2</td>\n",
              "      <td>3</td>\n",
              "      <td>1</td>\n",
              "      <td>1</td>\n",
              "      <td>0</td>\n",
              "      <td>1</td>\n",
              "      <td>1</td>\n",
              "      <td>0</td>\n",
              "      <td>1</td>\n",
              "      <td>0</td>\n",
              "      <td>0</td>\n",
              "      <td>0</td>\n",
              "      <td>0</td>\n",
              "      <td>0</td>\n",
              "      <td>1</td>\n",
              "      <td>1</td>\n",
              "      <td>0</td>\n",
              "    </tr>\n",
              "    <tr>\n",
              "      <th>394</th>\n",
              "      <td>19</td>\n",
              "      <td>1</td>\n",
              "      <td>1</td>\n",
              "      <td>1</td>\n",
              "      <td>1</td>\n",
              "      <td>0</td>\n",
              "      <td>3</td>\n",
              "      <td>2</td>\n",
              "      <td>3</td>\n",
              "      <td>3</td>\n",
              "      <td>3</td>\n",
              "      <td>5</td>\n",
              "      <td>5</td>\n",
              "      <td>8</td>\n",
              "      <td>9</td>\n",
              "      <td>1</td>\n",
              "      <td>0</td>\n",
              "      <td>2</td>\n",
              "      <td>1</td>\n",
              "      <td>1</td>\n",
              "      <td>1</td>\n",
              "      <td>1</td>\n",
              "      <td>1</td>\n",
              "      <td>0</td>\n",
              "      <td>0</td>\n",
              "      <td>0</td>\n",
              "      <td>0</td>\n",
              "      <td>0</td>\n",
              "      <td>0</td>\n",
              "      <td>1</td>\n",
              "      <td>1</td>\n",
              "      <td>1</td>\n",
              "      <td>0</td>\n",
              "    </tr>\n",
              "  </tbody>\n",
              "</table>\n",
              "<p>395 rows × 33 columns</p>\n",
              "</div>"
            ],
            "text/plain": [
              "     age  mother_education  ...  internet_enc  romantic_enc\n",
              "0     18                 4  ...             0             0\n",
              "1     17                 1  ...             1             0\n",
              "2     15                 1  ...             1             0\n",
              "3     15                 4  ...             1             1\n",
              "4     16                 3  ...             0             0\n",
              "..   ...               ...  ...           ...           ...\n",
              "390   20                 2  ...             0             0\n",
              "391   17                 3  ...             1             0\n",
              "392   21                 1  ...             0             0\n",
              "393   18                 3  ...             1             0\n",
              "394   19                 1  ...             1             0\n",
              "\n",
              "[395 rows x 33 columns]"
            ]
          },
          "metadata": {
            "tags": []
          },
          "execution_count": 38
        }
      ]
    },
    {
      "cell_type": "markdown",
      "metadata": {
        "id": "8qy1ioU_D5QY",
        "colab_type": "text"
      },
      "source": [
        "**|| To move forward we need to split the dataset fist into training and testing datasets :-**"
      ]
    },
    {
      "cell_type": "code",
      "metadata": {
        "id": "tUal4c9-EdxS",
        "colab_type": "code",
        "colab": {}
      },
      "source": [
        "X = math2.drop('final_grade',axis=1)\n",
        "y = math2.final_grade\n",
        "X_train,X_test,y_train,y_test=train_test_split(X,y,test_size=0.3)"
      ],
      "execution_count": null,
      "outputs": []
    },
    {
      "cell_type": "markdown",
      "metadata": {
        "id": "1wtpRbuwGK1e",
        "colab_type": "text"
      },
      "source": [
        "## **NOW LET THE FUN BEGIN ^ ^!**\n",
        "\n",
        "![alt text](https://i.pinimg.com/564x/df/19/54/df1954ae304ffd5da7eb358ee9d076de.jpg)"
      ]
    },
    {
      "cell_type": "markdown",
      "metadata": {
        "id": "6vgoDT4AIUxE",
        "colab_type": "text"
      },
      "source": [
        "**|| Pipline :-**"
      ]
    },
    {
      "cell_type": "code",
      "metadata": {
        "id": "doKutvTLIlcX",
        "colab_type": "code",
        "colab": {}
      },
      "source": [
        "numeric_transformer = Pipeline(steps=[\n",
        "    ('imputer', SimpleImputer(strategy='median')),\n",
        "    ('scaler', StandardScaler())])\n",
        "\n",
        "categorical_transformer = Pipeline(steps=[\n",
        "    ('imputer', SimpleImputer(strategy='most_frequent')),\n",
        "    ('onehotenc', OneHotEncoder())])\n",
        "\n",
        "numeric_features = X.select_dtypes(include=['int64', 'float64']).columns\n",
        "\n",
        "\n",
        "categorical_features = X.select_dtypes(include=['object']).columns\n",
        "\n",
        "\n",
        "\n",
        "preprocessor = ColumnTransformer(\n",
        "    transformers=[\n",
        "        ('numerical', numeric_transformer, numeric_features),\n",
        "        ('categorical', categorical_transformer, categorical_features)])"
      ],
      "execution_count": null,
      "outputs": []
    },
    {
      "cell_type": "markdown",
      "metadata": {
        "id": "32ygYxGdRs77",
        "colab_type": "text"
      },
      "source": [
        "**|| Applying RandomForest classifier :-**"
      ]
    },
    {
      "cell_type": "code",
      "metadata": {
        "id": "ZoDxCu1GIshO",
        "colab_type": "code",
        "colab": {}
      },
      "source": [
        "rf = Pipeline(steps=[('preprocessor', preprocessor), ('classifier', RandomForestClassifier())])"
      ],
      "execution_count": null,
      "outputs": []
    },
    {
      "cell_type": "code",
      "metadata": {
        "id": "lp4lUuNmIxnl",
        "colab_type": "code",
        "colab": {
          "base_uri": "https://localhost:8080/",
          "height": 71
        },
        "outputId": "5af6bd1a-d828-4fe7-a40d-7bf99a48b102"
      },
      "source": [
        "rf.fit(X_train, y_train);"
      ],
      "execution_count": null,
      "outputs": [
        {
          "output_type": "stream",
          "text": [
            "/usr/local/lib/python3.6/dist-packages/sklearn/ensemble/forest.py:245: FutureWarning: The default value of n_estimators will change from 10 in version 0.20 to 100 in 0.22.\n",
            "  \"10 in version 0.20 to 100 in 0.22.\", FutureWarning)\n"
          ],
          "name": "stderr"
        }
      ]
    },
    {
      "cell_type": "code",
      "metadata": {
        "id": "BubLUKJoI611",
        "colab_type": "code",
        "colab": {}
      },
      "source": [
        "y_pred = rf.predict(X_test)"
      ],
      "execution_count": null,
      "outputs": []
    },
    {
      "cell_type": "code",
      "metadata": {
        "id": "GV3OAjfxI9np",
        "colab_type": "code",
        "colab": {
          "base_uri": "https://localhost:8080/",
          "height": 34
        },
        "outputId": "af9416a1-7447-4cb1-ad35-679f26815ac9"
      },
      "source": [
        "rf.score(X_train, y_train)"
      ],
      "execution_count": null,
      "outputs": [
        {
          "output_type": "execute_result",
          "data": {
            "text/plain": [
              "0.9855072463768116"
            ]
          },
          "metadata": {
            "tags": []
          },
          "execution_count": 44
        }
      ]
    },
    {
      "cell_type": "code",
      "metadata": {
        "id": "JcsdvfNhQpUI",
        "colab_type": "code",
        "colab": {
          "base_uri": "https://localhost:8080/",
          "height": 34
        },
        "outputId": "a4679d84-ac4e-4dfc-e38b-6f355e356fb5"
      },
      "source": [
        "rf.score(X_test, y_test)"
      ],
      "execution_count": null,
      "outputs": [
        {
          "output_type": "execute_result",
          "data": {
            "text/plain": [
              "0.7815126050420168"
            ]
          },
          "metadata": {
            "tags": []
          },
          "execution_count": 45
        }
      ]
    },
    {
      "cell_type": "markdown",
      "metadata": {
        "id": "m6DVXUeqSJu5",
        "colab_type": "text"
      },
      "source": [
        "*-- The Accuracy :*"
      ]
    },
    {
      "cell_type": "code",
      "metadata": {
        "id": "Z_Ca7r5ASRTg",
        "colab_type": "code",
        "colab": {
          "base_uri": "https://localhost:8080/",
          "height": 34
        },
        "outputId": "307bac0c-4162-4bef-d923-7357cb267729"
      },
      "source": [
        "metrics.accuracy_score(y_test, y_pred)"
      ],
      "execution_count": null,
      "outputs": [
        {
          "output_type": "execute_result",
          "data": {
            "text/plain": [
              "0.7815126050420168"
            ]
          },
          "metadata": {
            "tags": []
          },
          "execution_count": 46
        }
      ]
    },
    {
      "cell_type": "markdown",
      "metadata": {
        "id": "0kCwxn-aSY-F",
        "colab_type": "text"
      },
      "source": [
        "*-- Displying the metrics :*"
      ]
    },
    {
      "cell_type": "code",
      "metadata": {
        "id": "UZX-fXJtSTSt",
        "colab_type": "code",
        "colab": {
          "base_uri": "https://localhost:8080/",
          "height": 187
        },
        "outputId": "2a2936d8-928a-471a-9483-32828d279b8c"
      },
      "source": [
        "print(metrics.classification_report(y_test, y_pred))"
      ],
      "execution_count": null,
      "outputs": [
        {
          "output_type": "stream",
          "text": [
            "              precision    recall  f1-score   support\n",
            "\n",
            "           0       0.94      0.73      0.82        22\n",
            "           1       0.70      0.87      0.78        38\n",
            "           2       0.80      0.75      0.77        59\n",
            "\n",
            "    accuracy                           0.78       119\n",
            "   macro avg       0.81      0.78      0.79       119\n",
            "weighted avg       0.79      0.78      0.78       119\n",
            "\n"
          ],
          "name": "stdout"
        }
      ]
    },
    {
      "cell_type": "markdown",
      "metadata": {
        "id": "doNysmfoTfkp",
        "colab_type": "text"
      },
      "source": [
        "*-- Confusion matrix :-*"
      ]
    },
    {
      "cell_type": "code",
      "metadata": {
        "id": "_SZTqKphSXKK",
        "colab_type": "code",
        "colab": {
          "base_uri": "https://localhost:8080/",
          "height": 347
        },
        "outputId": "eb531cb0-5ee5-4d91-8568-873095a35640"
      },
      "source": [
        "conf_mat = metrics.confusion_matrix(y_true=y_test, y_pred=y_pred)\n",
        "print('Confusion matrix:\\n', conf_mat)\n",
        "\n",
        "labels = ['Class 0', 'Class 1','Class 2']\n",
        "fig = plt.figure()\n",
        "ax = fig.add_subplot(111)\n",
        "cax = ax.matshow(conf_mat, cmap=plt.cm.plasma)\n",
        "fig.colorbar(cax)\n",
        "ax.set_xticklabels([''] + labels)\n",
        "ax.set_yticklabels([''] + labels)\n",
        "plt.xlabel('Predicted')\n",
        "plt.ylabel('Expected')\n",
        "plt.show()"
      ],
      "execution_count": null,
      "outputs": [
        {
          "output_type": "stream",
          "text": [
            "Confusion matrix:\n",
            " [[16  0  6]\n",
            " [ 0 33  5]\n",
            " [ 1 14 44]]\n"
          ],
          "name": "stdout"
        },
        {
          "output_type": "display_data",
          "data": {
            "image/png": "[encoded data removed]",
            "text/plain": [
              "<Figure size 432x288 with 2 Axes>"
            ]
          },
          "metadata": {
            "tags": []
          }
        }
      ]
    },
    {
      "cell_type": "markdown",
      "metadata": {
        "id": "MWDTDlSqTw3L",
        "colab_type": "text"
      },
      "source": [
        "**|| Applying the other classifiers. Such as KNeighborsClassifier, SVC, LogisticRegression, DecisionTreeClassifier, RandomForestClassifier and MLPClassifier :-**"
      ]
    },
    {
      "cell_type": "code",
      "metadata": {
        "id": "g-euZNnUTefM",
        "colab_type": "code",
        "colab": {
          "base_uri": "https://localhost:8080/",
          "height": 1000
        },
        "outputId": "4b012e41-5de2-49eb-e0d5-0f1f76cdc3b0"
      },
      "source": [
        "\n",
        "classifiers = [\n",
        "    KNeighborsClassifier(3),\n",
        "    SVC(kernel=\"rbf\", C=0.025, probability=True),\n",
        "    LogisticRegression(),\n",
        "    DecisionTreeClassifier(),\n",
        "    RandomForestClassifier(),\n",
        "    MLPClassifier()]\n",
        "    \n",
        "for classifier in classifiers:\n",
        "    \n",
        "    pipe = Pipeline(steps=[('preprocessor', preprocessor),\n",
        "                      ('classifier', classifier)])\n",
        "    \n",
        "    pipe.fit(X_train, y_train)   \n",
        "    print(classifier)\n",
        "    print(\"model score: %.3f\" % pipe.score(X_test, y_test))\n",
        "    \n",
        "    y_pred = pipe.predict(X_test)\n",
        "\n",
        "    print(\"accuracy score: \", metrics.accuracy_score(y_test, y_pred))\n",
        "\n",
        "    print(\"classification report \", metrics.classification_report(y_test, y_pred))\n",
        "\n",
        "    conf_mat = metrics.confusion_matrix(y_true=y_test, y_pred=y_pred)\n",
        "    print('Confusion matrix:\\n', conf_mat)\n",
        "\n",
        "    labels = ['Class 0', 'Class 1','Class 2']\n",
        "    fig = plt.figure()\n",
        "    ax = fig.add_subplot(111)\n",
        "    cax = ax.matshow(conf_mat, cmap=plt.cm.plasma)\n",
        "    fig.colorbar(cax)\n",
        "    ax.set_xticklabels([''] + labels)\n",
        "    ax.set_yticklabels([''] + labels)\n",
        "    plt.xlabel('Predicted')\n",
        "    plt.ylabel('Expected')\n",
        "    plt.show()"
      ],
      "execution_count": null,
      "outputs": [
        {
          "output_type": "stream",
          "text": [
            "KNeighborsClassifier(algorithm='auto', leaf_size=30, metric='minkowski',\n",
            "                     metric_params=None, n_jobs=None, n_neighbors=3, p=2,\n",
            "                     weights='uniform')\n",
            "model score: 0.563\n",
            "accuracy score:  0.5630252100840336\n",
            "classification report                precision    recall  f1-score   support\n",
            "\n",
            "           0       0.40      0.45      0.43        22\n",
            "           1       0.69      0.58      0.63        38\n",
            "           2       0.56      0.59      0.58        59\n",
            "\n",
            "    accuracy                           0.56       119\n",
            "   macro avg       0.55      0.54      0.54       119\n",
            "weighted avg       0.57      0.56      0.57       119\n",
            "\n",
            "Confusion matrix:\n",
            " [[10  0 12]\n",
            " [ 1 22 15]\n",
            " [14 10 35]]\n"
          ],
          "name": "stdout"
        },
        {
          "output_type": "display_data",
          "data": {
            "image/png": "[encoded data removed]",
            "text/plain": [
              "<Figure size 432x288 with 2 Axes>"
            ]
          },
          "metadata": {
            "tags": []
          }
        },
        {
          "output_type": "stream",
          "text": [
            "/usr/local/lib/python3.6/dist-packages/sklearn/svm/base.py:193: FutureWarning: The default value of gamma will change from 'auto' to 'scale' in version 0.22 to account better for unscaled features. Set gamma explicitly to 'auto' or 'scale' to avoid this warning.\n",
            "  \"avoid this warning.\", FutureWarning)\n",
            "/usr/local/lib/python3.6/dist-packages/sklearn/metrics/classification.py:1437: UndefinedMetricWarning: Precision and F-score are ill-defined and being set to 0.0 in labels with no predicted samples.\n",
            "  'precision', 'predicted', average, warn_for)\n"
          ],
          "name": "stderr"
        },
        {
          "output_type": "stream",
          "text": [
            "SVC(C=0.025, cache_size=200, class_weight=None, coef0=0.0,\n",
            "    decision_function_shape='ovr', degree=3, gamma='auto_deprecated',\n",
            "    kernel='rbf', max_iter=-1, probability=True, random_state=None,\n",
            "    shrinking=True, tol=0.001, verbose=False)\n",
            "model score: 0.496\n",
            "accuracy score:  0.4957983193277311\n",
            "classification report                precision    recall  f1-score   support\n",
            "\n",
            "           0       0.00      0.00      0.00        22\n",
            "           1       0.00      0.00      0.00        38\n",
            "           2       0.50      1.00      0.66        59\n",
            "\n",
            "    accuracy                           0.50       119\n",
            "   macro avg       0.17      0.33      0.22       119\n",
            "weighted avg       0.25      0.50      0.33       119\n",
            "\n",
            "Confusion matrix:\n",
            " [[ 0  0 22]\n",
            " [ 0  0 38]\n",
            " [ 0  0 59]]\n"
          ],
          "name": "stdout"
        },
        {
          "output_type": "display_data",
          "data": {
            "image/png": "[encoded data removed]",
            "text/plain": [
              "<Figure size 432x288 with 2 Axes>"
            ]
          },
          "metadata": {
            "tags": []
          }
        },
        {
          "output_type": "stream",
          "text": [
            "LogisticRegression(C=1.0, class_weight=None, dual=False, fit_intercept=True,\n",
            "                   intercept_scaling=1, l1_ratio=None, max_iter=100,\n",
            "                   multi_class='warn', n_jobs=None, penalty='l2',\n",
            "                   random_state=None, solver='warn', tol=0.0001, verbose=0,\n",
            "                   warm_start=False)\n",
            "model score: 0.840\n",
            "accuracy score:  0.8403361344537815\n",
            "classification report                precision    recall  f1-score   support\n",
            "\n",
            "           0       0.77      0.77      0.77        22\n",
            "           1       0.87      0.89      0.88        38\n",
            "           2       0.84      0.83      0.84        59\n",
            "\n",
            "    accuracy                           0.84       119\n",
            "   macro avg       0.83      0.83      0.83       119\n",
            "weighted avg       0.84      0.84      0.84       119\n",
            "\n",
            "Confusion matrix:\n",
            " [[17  0  5]\n",
            " [ 0 34  4]\n",
            " [ 5  5 49]]\n"
          ],
          "name": "stdout"
        },
        {
          "output_type": "stream",
          "text": [
            "/usr/local/lib/python3.6/dist-packages/sklearn/linear_model/logistic.py:432: FutureWarning: Default solver will be changed to 'lbfgs' in 0.22. Specify a solver to silence this warning.\n",
            "  FutureWarning)\n",
            "/usr/local/lib/python3.6/dist-packages/sklearn/linear_model/logistic.py:469: FutureWarning: Default multi_class will be changed to 'auto' in 0.22. Specify the multi_class option to silence this warning.\n",
            "  \"this warning.\", FutureWarning)\n"
          ],
          "name": "stderr"
        },
        {
          "output_type": "display_data",
          "data": {
            "image/png": "[encoded data removed]",
            "text/plain": [
              "<Figure size 432x288 with 2 Axes>"
            ]
          },
          "metadata": {
            "tags": []
          }
        },
        {
          "output_type": "stream",
          "text": [
            "DecisionTreeClassifier(class_weight=None, criterion='gini', max_depth=None,\n",
            "                       max_features=None, max_leaf_nodes=None,\n",
            "                       min_impurity_decrease=0.0, min_impurity_split=None,\n",
            "                       min_samples_leaf=1, min_samples_split=2,\n",
            "                       min_weight_fraction_leaf=0.0, presort=False,\n",
            "                       random_state=None, splitter='best')\n",
            "model score: 0.874\n",
            "accuracy score:  0.8739495798319328\n",
            "classification report                precision    recall  f1-score   support\n",
            "\n",
            "           0       0.95      0.91      0.93        22\n",
            "           1       0.84      0.84      0.84        38\n",
            "           2       0.87      0.88      0.87        59\n",
            "\n",
            "    accuracy                           0.87       119\n",
            "   macro avg       0.89      0.88      0.88       119\n",
            "weighted avg       0.87      0.87      0.87       119\n",
            "\n",
            "Confusion matrix:\n",
            " [[20  0  2]\n",
            " [ 0 32  6]\n",
            " [ 1  6 52]]\n"
          ],
          "name": "stdout"
        },
        {
          "output_type": "display_data",
          "data": {
            "image/png": "[encoded data removed]",
            "text/plain": [
              "<Figure size 432x288 with 2 Axes>"
            ]
          },
          "metadata": {
            "tags": []
          }
        },
        {
          "output_type": "stream",
          "text": [
            "RandomForestClassifier(bootstrap=True, class_weight=None, criterion='gini',\n",
            "                       max_depth=None, max_features='auto', max_leaf_nodes=None,\n",
            "                       min_impurity_decrease=0.0, min_impurity_split=None,\n",
            "                       min_samples_leaf=1, min_samples_split=2,\n",
            "                       min_weight_fraction_leaf=0.0, n_estimators=10,\n",
            "                       n_jobs=None, oob_score=False, random_state=None,\n",
            "                       verbose=0, warm_start=False)\n",
            "model score: 0.756\n",
            "accuracy score:  0.7563025210084033\n",
            "classification report                precision    recall  f1-score   support\n",
            "\n",
            "           0       0.93      0.64      0.76        22\n",
            "           1       0.72      0.76      0.74        38\n",
            "           2       0.73      0.80      0.76        59\n",
            "\n",
            "    accuracy                           0.76       119\n",
            "   macro avg       0.80      0.73      0.75       119\n",
            "weighted avg       0.77      0.76      0.76       119\n",
            "\n",
            "Confusion matrix:\n",
            " [[14  0  8]\n",
            " [ 0 29  9]\n",
            " [ 1 11 47]]\n"
          ],
          "name": "stdout"
        },
        {
          "output_type": "stream",
          "text": [
            "/usr/local/lib/python3.6/dist-packages/sklearn/ensemble/forest.py:245: FutureWarning: The default value of n_estimators will change from 10 in version 0.20 to 100 in 0.22.\n",
            "  \"10 in version 0.20 to 100 in 0.22.\", FutureWarning)\n"
          ],
          "name": "stderr"
        },
        {
          "output_type": "display_data",
          "data": {
            "image/png": "[encoded data removed]",
            "text/plain": [
              "<Figure size 432x288 with 2 Axes>"
            ]
          },
          "metadata": {
            "tags": []
          }
        },
        {
          "output_type": "stream",
          "text": [
            "/usr/local/lib/python3.6/dist-packages/sklearn/neural_network/multilayer_perceptron.py:566: ConvergenceWarning: Stochastic Optimizer: Maximum iterations (200) reached and the optimization hasn't converged yet.\n",
            "  % self.max_iter, ConvergenceWarning)\n"
          ],
          "name": "stderr"
        },
        {
          "output_type": "stream",
          "text": [
            "MLPClassifier(activation='relu', alpha=0.0001, batch_size='auto', beta_1=0.9,\n",
            "              beta_2=0.999, early_stopping=False, epsilon=1e-08,\n",
            "              hidden_layer_sizes=(100,), learning_rate='constant',\n",
            "              learning_rate_init=0.001, max_iter=200, momentum=0.9,\n",
            "              n_iter_no_change=10, nesterovs_momentum=True, power_t=0.5,\n",
            "              random_state=None, shuffle=True, solver='adam', tol=0.0001,\n",
            "              validation_fraction=0.1, verbose=False, warm_start=False)\n",
            "model score: 0.790\n",
            "accuracy score:  0.7899159663865546\n",
            "classification report                precision    recall  f1-score   support\n",
            "\n",
            "           0       0.82      0.64      0.72        22\n",
            "           1       0.83      0.79      0.81        38\n",
            "           2       0.76      0.85      0.80        59\n",
            "\n",
            "    accuracy                           0.79       119\n",
            "   macro avg       0.80      0.76      0.78       119\n",
            "weighted avg       0.79      0.79      0.79       119\n",
            "\n",
            "Confusion matrix:\n",
            " [[14  0  8]\n",
            " [ 0 30  8]\n",
            " [ 3  6 50]]\n"
          ],
          "name": "stdout"
        },
        {
          "output_type": "display_data",
          "data": {
            "image/png": "[encoded data removed]",
            "text/plain": [
              "<Figure size 432x288 with 2 Axes>"
            ]
          },
          "metadata": {
            "tags": []
          }
        }
      ]
    },
    {
      "cell_type": "markdown",
      "metadata": {
        "id": "l0S7QJa3VVj7",
        "colab_type": "text"
      },
      "source": [
        "## **Based on the result of the accuracy of each classifier we decided that logistic regression is the best model since it has the highest accuracy...**"
      ]
    },
    {
      "cell_type": "markdown",
      "metadata": {
        "id": "4V79Q3FG8dSz",
        "colab_type": "text"
      },
      "source": [
        "# References\n",
        "https://archive.ics.uci.edu/ml/datasets/student+performance\n",
        "\n",
        "https://machinelearningmastery.com/automate-machine-learning-workflows-pipelines-python-scikit-learn/\n",
        "\n",
        "https://www.dataschool.io/simple-guide-to-confusion-matrix-terminology/amp/\n"
      ]
    }
  ]
}